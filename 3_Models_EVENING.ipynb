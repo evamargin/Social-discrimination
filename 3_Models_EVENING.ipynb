{
 "cells": [
  {
   "cell_type": "markdown",
   "metadata": {},
   "source": [
    "# Models \n",
    "\n",
    "- only evening\n",
    "- only SVM linear"
   ]
  },
  {
   "cell_type": "code",
   "execution_count": 2,
   "metadata": {},
   "outputs": [],
   "source": [
    "import sys\n",
    "import os as os\n",
    "import numpy as np\n",
    "try:\n",
    "    import cPickle as pickle\n",
    "except:\n",
    "    import pickle as pkl\n",
    "\n",
    "import scipy as scipy\n",
    "import scipy.io as spio\n",
    "import pandas as pd\n",
    "import matplotlib.pyplot as plt\n",
    "import matplotlib as mpl\n",
    "from scipy import signal\n",
    "from scipy.signal import find_peaks\n",
    "from scipy.ndimage import gaussian_filter1d\n",
    "from scipy.io.matlab import mat_struct\n",
    "import pickle\n",
    "import random\n",
    "random.seed(666)\n",
    "\n",
    "def loadmat(filename):\n",
    "    '''\n",
    "    this function should be called instead of direct spio.loadmat\n",
    "    as it cures the problem of not properly recovering python dictionaries\n",
    "    from mat files. It calls the function check keys to cure all entries\n",
    "    which are still mat-objects\n",
    "    '''\n",
    "    data = spio.loadmat(filename, struct_as_record=True, squeeze_me=True)\n",
    "    return _check_keys(data)\n",
    "\n",
    "def _check_keys(dict):\n",
    "    '''\n",
    "    checks if entries in dictionary are mat-objects. If yes\n",
    "    todict is called to change them to nested dictionaries\n",
    "    '''\n",
    "    for key in dict:\n",
    "        if isinstance(dict[key], scipy.io.matlab.mat_struct):\n",
    "            dict[key] = _todict(dict[key])\n",
    "    return dict        \n",
    "\n",
    "def _todict(matobj):\n",
    "    '''\n",
    "    A recursive function which constructs from matobjects nested dictionaries\n",
    "    '''\n",
    "    dict = {}\n",
    "    for strg in matobj._fieldnames:\n",
    "        elem = matobj.__dict__[strg]\n",
    "        if isinstance(elem, scipy.io.matlab.mat_struct):\n",
    "            dict[strg] = _todict(elem)\n",
    "        else:\n",
    "            dict[strg] = elem\n",
    "    return dict"
   ]
  },
  {
   "cell_type": "markdown",
   "metadata": {},
   "source": [
    "## Load session data"
   ]
  },
  {
   "cell_type": "code",
   "execution_count": 5,
   "metadata": {},
   "outputs": [],
   "source": [
    "meta = {}\n",
    "meta[38] = {'mouse':'3C280', 'ks':'Kilosort_2024-03-27_150459', 'del_units':[936,1005,1043,1135,1137,1138,1140], 'vis_mice':np.array(['nan', 'alpha1', 'beta1','nan', 'alpha2', 'beta2']), 'active_blocks':[1,2,4,5]}\n",
    "meta[43] = {'mouse':'3C280', 'ks':'Kilosort_2024-04-12_142858', 'del_units':None, 'vis_mice':np.array(['nan', 'alpha1', 'beta1','nan', 'alpha2', 'beta2']), 'active_blocks':[1,2,4,5]}\n",
    "meta[45] = {'mouse':'3C280', 'ks':'Kilosort_2024-04-12_162032', 'del_units':[594], 'vis_mice':np.array(['nan', 'beta1', 'alpha1','blank','nan', 'beta2', 'alpha2']),'active_blocks':[1,2,3,5,6]}\n",
    "meta[46] = {'mouse':'3C280', 'ks':'Kilosort_2024-04-12_180855', 'del_units':None, 'vis_mice':np.array(['nan','alpha1', 'beta1','blank','nan','alpha2', 'beta2']), 'active_blocks':[1,2,3,5,6]}\n",
    "meta[11] = {'mouse':'3C290', 'ks':'Kilosort_2024-05-06_154258', 'del_units':[847, 835], 'vis_mice':np.array(['nan', 'beta1', 'alpha1','blank','nan', 'beta2', 'alpha2']),'active_blocks':[1,2,3,5,6]}\n",
    "meta[14] = {'mouse':'3C290', 'ks':'Kilosort_2024-05-14_122629', 'del_units':None, 'vis_mice':np.array(['nan', 'beta1', 'alpha1','blank','nan', 'beta2', 'alpha2']),'active_blocks':[1,2,3,5,6]}\n",
    "meta[19] = {'mouse':'3C290', 'ks':'Kilosort_2024-05-14_140410', 'del_units':None, 'vis_mice':np.array(['nan', 'beta1', 'alpha1','blank','nan', 'beta2', 'alpha2']),'active_blocks':[1,2,3,5,6]}\n",
    "meta[20] = {'mouse':'3C290', 'ks':'Kilosort_2024-05-15_110539', 'del_units':[33], 'vis_mice':np.array(['nan', 'beta1', 'alpha1','blank','nan', 'beta2', 'alpha2']),'active_blocks':[1,2,3,5,6]}\n"
   ]
  },
  {
   "cell_type": "code",
   "execution_count": 6,
   "metadata": {},
   "outputs": [],
   "source": [
    "Session = 11"
   ]
  },
  {
   "cell_type": "code",
   "execution_count": 7,
   "metadata": {},
   "outputs": [],
   "source": [
    "mouse = meta[Session]['mouse']\n",
    "ks = meta[Session]['ks']\n",
    "del_units=meta[Session]['del_units']\n",
    "vis_mice = meta[Session]['vis_mice']\n",
    "active_blocks = meta[Session]['active_blocks']"
   ]
  },
  {
   "cell_type": "code",
   "execution_count": 25,
   "metadata": {},
   "outputs": [],
   "source": [
    "a1_idx = np.where(vis_mice=='alpha1')[0][0]\n",
    "b1_idx = np.where(vis_mice=='beta1')[0][0]\n",
    "a2_idx = np.where(vis_mice=='alpha2')[0][0]\n",
    "b2_idx = np.where(vis_mice=='beta2')[0][0]"
   ]
  },
  {
   "cell_type": "code",
   "execution_count": 8,
   "metadata": {},
   "outputs": [],
   "source": [
    "# create folder to save results\n",
    "try:\n",
    "    os.makedirs(f'C:\\\\Users\\\\ebukina\\\\Desktop\\\\eva\\\\results\\\\models_evening')\n",
    "except:\n",
    "    pass"
   ]
  },
  {
   "cell_type": "code",
   "execution_count": 9,
   "metadata": {},
   "outputs": [],
   "source": [
    "# create folder to save results\n",
    "try:\n",
    "    os.makedirs(f'C:\\\\Users\\\\ebukina\\\\Desktop\\\\eva\\\\results\\\\models_evening\\\\S{Session}')\n",
    "except:\n",
    "    pass"
   ]
  },
  {
   "cell_type": "markdown",
   "metadata": {},
   "source": [
    "### Ephys data"
   ]
  },
  {
   "cell_type": "code",
   "execution_count": 10,
   "metadata": {},
   "outputs": [],
   "source": [
    "KSdir = f'L:\\\\everyone\\\\sharedDATA\\\\ProcessedDATA\\\\{mouse}\\\\{mouse}_S{Session}\\\\{ks}\\\\'\n",
    "\n",
    "spiketimesfile = KSdir+\"spike_times.npy\"  \n",
    "spiketimes = np.load(spiketimesfile)  #### all spiketimes as indexes regardless of cluster\n",
    "\n",
    "clusterfile = KSdir+\"spike_clusters.npy\"\n",
    "spikeclusters = np.load(clusterfile) #### cluster id for each detected spike\n",
    "\n",
    "Clusterinfofile = KSdir+\"cluster_info.tsv\"\n",
    "Clusterinfo = pd.read_csv(Clusterinfofile,sep='\\t') #### cluster meta-data matrix"
   ]
  },
  {
   "cell_type": "code",
   "execution_count": 11,
   "metadata": {},
   "outputs": [
    {
     "name": "stdout",
     "output_type": "stream",
     "text": [
      "Session 11: 40 good clusters\n"
     ]
    }
   ],
   "source": [
    "goodclusts = Clusterinfo['cluster_id'][np.where(Clusterinfo['group']=='good')[0]]\n",
    "goods = []\n",
    "for clust in goodclusts :\n",
    "    goods.append(clust)\n",
    "print(f'Session {Session}: {len(goods)} good clusters')"
   ]
  },
  {
   "cell_type": "code",
   "execution_count": 12,
   "metadata": {},
   "outputs": [],
   "source": [
    "goodspiketimes = {}\n",
    "\n",
    "spikethresh = 1000 # min nb of spikes\n",
    "for goodunit in goods :\n",
    "    goodinds = np.where(spikeclusters==goodunit)[0]\n",
    "    if goodinds.shape[0] > spikethresh : \n",
    "        goodspiketimes[goodunit] = spiketimes[goodinds]"
   ]
  },
  {
   "cell_type": "code",
   "execution_count": 13,
   "metadata": {},
   "outputs": [
    {
     "data": {
      "text/plain": [
       "38"
      ]
     },
     "execution_count": 13,
     "metadata": {},
     "output_type": "execute_result"
    }
   ],
   "source": [
    "len(goodspiketimes.keys())"
   ]
  },
  {
   "cell_type": "markdown",
   "metadata": {},
   "source": [
    "### Behavior data"
   ]
  },
  {
   "cell_type": "code",
   "execution_count": 14,
   "metadata": {},
   "outputs": [],
   "source": [
    "matfile =  f'L:\\\\everyone\\\\sharedDATA\\\\ProcessedDATA\\\\{mouse}\\\\{mouse}_S{Session}\\\\Behaviour.mat'\n",
    "EvaBehavior = loadmat(matfile)"
   ]
  },
  {
   "cell_type": "code",
   "execution_count": 15,
   "metadata": {},
   "outputs": [],
   "source": [
    "def load_behavioral_event(event_idx, time_to_idx = True):\n",
    "    '''\n",
    "    returns dictionary; keys - blocks; inside - array with event :\n",
    "    time stamps in [sec] if time_to_idx = False\n",
    "    indexes if time_to_idx = True\n",
    "    '''\n",
    "    event_dic = {}\n",
    "\n",
    "    for block in np.arange(EvaBehavior['Behaviour'].shape[0]) :\n",
    "        if time_to_idx:\n",
    "            event_dic[block] = EvaBehavior['Behaviour'][block][event_idx]*20000\n",
    "        else:\n",
    "            event_dic[block] = EvaBehavior['Behaviour'][block][event_idx]\n",
    "        event_dic[block] = event_dic[block].astype(int)\n",
    "    \n",
    "    return event_dic"
   ]
  },
  {
   "cell_type": "code",
   "execution_count": 16,
   "metadata": {},
   "outputs": [],
   "source": [
    "TestSocialSampleWindowPerTrial = load_behavioral_event(12)"
   ]
  },
  {
   "cell_type": "markdown",
   "metadata": {},
   "source": [
    "## Data prep: firing rate array"
   ]
  },
  {
   "cell_type": "code",
   "execution_count": 17,
   "metadata": {},
   "outputs": [],
   "source": [
    "import copy"
   ]
  },
  {
   "cell_type": "code",
   "execution_count": 18,
   "metadata": {},
   "outputs": [],
   "source": [
    "def fr_matrix_prep(beforesamples, aftersamples, blocks, bins, del_units=None):\n",
    "    # discard wierd cells based on rasters\n",
    "    goodspiketimes_copy = copy.deepcopy(goodspiketimes)\n",
    "\n",
    "    try:\n",
    "        for unit in del_units:\n",
    "            del goodspiketimes_copy[unit]\n",
    "    except:\n",
    "        pass\n",
    "\n",
    "    units = goodspiketimes_copy.keys()\n",
    "    fr_dic = {}\n",
    "   \n",
    "    for block in blocks:\n",
    "        n_trials = TestSocialSampleWindowPerTrial[block].shape[0]\n",
    "        n_units = len(goodspiketimes_copy.keys())\n",
    "\n",
    "        fr_matrix = np.zeros((n_trials, n_units))\n",
    "\n",
    "        i = 0\n",
    "        for unit in units: # list of good cluster_id\n",
    "            \n",
    "            \n",
    "            for event in np.arange(TestSocialSampleWindowPerTrial[block].shape[0]) : #iterate by npoke events\n",
    "\n",
    "                onset = TestSocialSampleWindowPerTrial[block][event,0]\n",
    "                offset = TestSocialSampleWindowPerTrial[block][event,1]\n",
    "                \n",
    "                cond1 = np.where(goodspiketimes_copy[unit].astype(int)>=onset-beforesamples)[0]\n",
    "                cond2 = np.where(goodspiketimes_copy[unit].astype(int)<=offset+aftersamples)[0]\n",
    "                unitspikes = goodspiketimes_copy[unit][np.intersect1d(cond1,cond2)].astype(int)-onset\n",
    "\n",
    "                n = np.histogram(unitspikes, bins=bins)[0][0]\n",
    "                fr = n/0.25\n",
    "                fr_matrix[event, i] = fr\n",
    "            i+=1\n",
    "                \n",
    "        fr_dic[block] = fr_matrix\n",
    "    \n",
    "    return fr_dic\n",
    "        "
   ]
  },
  {
   "cell_type": "markdown",
   "metadata": {},
   "source": [
    "### Firing rates"
   ]
  },
  {
   "cell_type": "markdown",
   "metadata": {},
   "source": [
    "firing rate [Hz] = spike_count/ time_window(sec)\n",
    "\n",
    "* lets find it for each trial for each cell\n",
    "* we will make an array where each row is trial; each column - neuron; we will collect it in dict where keys = blocks"
   ]
  },
  {
   "cell_type": "code",
   "execution_count": 19,
   "metadata": {},
   "outputs": [],
   "source": [
    "## find spikes in interesting behavioral window\n",
    "samplplimg_rate = 20*1000 #20 kHz\n",
    "beforesamples = 0*samplplimg_rate # 1 sec (expressed in samples for a 20khz sampling rate)\n",
    "aftersamples = 0*samplplimg_rate # 1 sec\n",
    "npoke_window = 0.25\n",
    "eventlength = npoke_window*samplplimg_rate # 0.25 s\n",
    "\n",
    "binsize = 0.25*samplplimg_rate \n",
    "bins = np.linspace(-beforesamples,aftersamples+eventlength,int((beforesamples+aftersamples+eventlength)/binsize)+1)"
   ]
  },
  {
   "cell_type": "code",
   "execution_count": 20,
   "metadata": {},
   "outputs": [],
   "source": [
    "# 250 ms during the nosepoke\n",
    "fr_dic = fr_matrix_prep(beforesamples, aftersamples, blocks=active_blocks, bins=bins, del_units=del_units)"
   ]
  },
  {
   "cell_type": "code",
   "execution_count": 21,
   "metadata": {},
   "outputs": [
    {
     "data": {
      "text/plain": [
       "dict_keys([1, 2, 3, 5, 6])"
      ]
     },
     "execution_count": 21,
     "metadata": {},
     "output_type": "execute_result"
    }
   ],
   "source": [
    "fr_dic.keys()"
   ]
  },
  {
   "cell_type": "code",
   "execution_count": 22,
   "metadata": {},
   "outputs": [
    {
     "data": {
      "text/plain": [
       "(30, 36)"
      ]
     },
     "execution_count": 22,
     "metadata": {},
     "output_type": "execute_result"
    }
   ],
   "source": [
    "fr_dic[1].shape"
   ]
  },
  {
   "cell_type": "markdown",
   "metadata": {},
   "source": [
    "## PCA just for fan"
   ]
  },
  {
   "cell_type": "code",
   "execution_count": 23,
   "metadata": {},
   "outputs": [],
   "source": [
    "from scipy.stats import multivariate_normal\n",
    "import matplotlib.patches as patches\n",
    "from sklearn.decomposition import PCA\n",
    "from sklearn.mixture import GaussianMixture\n",
    "from matplotlib.patches import Ellipse\n",
    "from sklearn.preprocessing import StandardScaler, MinMaxScaler"
   ]
  },
  {
   "cell_type": "code",
   "execution_count": 27,
   "metadata": {},
   "outputs": [],
   "source": [
    "from matplotlib.colors import Normalize, LinearSegmentedColormap\n",
    "from matplotlib.cm import ScalarMappable"
   ]
  },
  {
   "cell_type": "code",
   "execution_count": 26,
   "metadata": {},
   "outputs": [],
   "source": [
    "n_clusters=4\n",
    "firing_rates_concat = np.concatenate((fr_dic[a1_idx], fr_dic[b1_idx], fr_dic[a2_idx], fr_dic[b2_idx]),axis=0)"
   ]
  },
  {
   "cell_type": "code",
   "execution_count": 28,
   "metadata": {},
   "outputs": [],
   "source": [
    "# Standardize the data\n",
    "scaler = StandardScaler() # z-scoring (x-mean)/sd\n",
    "scaled_data = scaler.fit_transform(firing_rates_concat)\n",
    "\n",
    "# Apply PCA\n",
    "pca = PCA(n_components=2)  # Choose number of components based on explained variance\n",
    "principal_components = pca.fit_transform(scaled_data)\n",
    "\n",
    "# Scale each principal component to range from -1 to 1\n",
    "scaler = MinMaxScaler(feature_range=(-1, 1))\n",
    "principal_components = scaler.fit_transform(principal_components)  "
   ]
  },
  {
   "cell_type": "code",
   "execution_count": 29,
   "metadata": {},
   "outputs": [
    {
     "data": {
      "text/plain": [
       "((30, 2), (30, 2), (10, 2), (10, 2), (2,))"
      ]
     },
     "execution_count": 29,
     "metadata": {},
     "output_type": "execute_result"
    }
   ],
   "source": [
    "k12 = fr_dic[a1_idx].shape[0]\n",
    "k34 = fr_dic[a2_idx].shape[0]\n",
    "\n",
    "a1_pca = principal_components[:k12,:]\n",
    "b1_pca = principal_components[k12:k12*2,:]\n",
    "a2_pca = principal_components[k12*2:k12*2+k34,:]\n",
    "b2_pca = principal_components[k12*2+k34:,:]\n",
    "\n",
    "centroid_a1_pca = np.median(a1_pca, axis=0).reshape(1, -1)[0]\n",
    "centroid_b1_pca = np.median(b1_pca, axis=0).reshape(1, -1)[0]\n",
    "centroid_a2_pca = np.median(a2_pca, axis=0).reshape(1, -1)[0]\n",
    "centroid_b2_pca = np.median(b2_pca, axis=0).reshape(1, -1)[0]\n",
    "\n",
    "a1_pca.shape, b1_pca.shape, a2_pca.shape, b2_pca.shape, centroid_a1_pca.shape"
   ]
  },
  {
   "cell_type": "code",
   "execution_count": 30,
   "metadata": {},
   "outputs": [],
   "source": [
    "def fit_gaussian(data):\n",
    "    \"\"\"Fit a 2D Gaussian to the data and return the mean and covariance.\"\"\"\n",
    "    mean = np.mean(data, axis=0)\n",
    "    cov = np.cov(data, rowvar=False)\n",
    "    return mean, cov\n",
    "\n",
    "def plot_ellipse(mean, cov, ax, n_std=1.0, color='red', **kwargs):\n",
    "    \"\"\"Plot an ellipse representing the Gaussian mean ± n_std * standard deviations.\"\"\"\n",
    "    # Eigenvalue decomposition to find the axis lengths and rotation angle\n",
    "    vals, vecs = np.linalg.eigh(cov)\n",
    "    order = vals.argsort()[::-1]\n",
    "    vals, vecs = vals[order], vecs[:, order]\n",
    "    \n",
    "    theta = np.degrees(np.arctan2(*vecs[:, 0][::-1]))\n",
    "    \n",
    "    # Width and height are \"full\" lengths, not radius\n",
    "    width, height = 2 * n_std * np.sqrt(vals)\n",
    "    \n",
    "    ell = patches.Ellipse(xy=mean, width=width, height=height, angle=theta, edgecolor=None, facecolor=color, alpha=0.35, **kwargs)\n",
    "    ax.add_patch(ell)"
   ]
  },
  {
   "cell_type": "code",
   "execution_count": 31,
   "metadata": {},
   "outputs": [],
   "source": [
    "# Create custom colormaps\n",
    "def create_custom_cmap(base_cmap):\n",
    "    colors = plt.cm.get_cmap(base_cmap)(np.linspace(0.3, 1, 256))  # Start from a darker shade\n",
    "    return LinearSegmentedColormap.from_list(f'{base_cmap}_custom', colors)\n"
   ]
  },
  {
   "cell_type": "code",
   "execution_count": 32,
   "metadata": {},
   "outputs": [
    {
     "name": "stderr",
     "output_type": "stream",
     "text": [
      "C:\\Users\\ebukina\\AppData\\Local\\Temp\\ipykernel_7740\\2465973930.py:3: MatplotlibDeprecationWarning: The get_cmap function was deprecated in Matplotlib 3.7 and will be removed two minor releases later. Use ``matplotlib.colormaps[name]`` or ``matplotlib.colormaps.get_cmap(obj)`` instead.\n",
      "  colors = plt.cm.get_cmap(base_cmap)(np.linspace(0.3, 1, 256))  # Start from a darker shade\n"
     ]
    },
    {
     "data": {
      "image/png": "[encoded data removed]",
      "text/plain": [
       "<Figure size 400x400 with 1 Axes>"
      ]
     },
     "metadata": {},
     "output_type": "display_data"
    }
   ],
   "source": [
    "data_pca = [a1_pca, b1_pca, a2_pca, b2_pca]\n",
    "colors = ['#1F77B4', '#FF8113', '#1F77B4', '#FF8113']\n",
    "names = ['alpha1', 'beta1', 'alpha2', 'beta2']\n",
    "base_colormaps = ['Blues', 'Oranges', 'Blues', 'Oranges']\n",
    "edgecolors = ['green', 'green', 'red', 'red']\n",
    "custom_colormaps = [create_custom_cmap(cmap) for cmap in base_colormaps]\n",
    "\n",
    "fig, ax = plt.subplots(figsize=(4, 4))\n",
    "\n",
    "i = 0\n",
    "for data, color in zip(data_pca, colors):\n",
    "    mean, cov = fit_gaussian(data)\n",
    "    plot_ellipse(mean, cov, ax, color=color)\n",
    "    i+=1\n",
    "\n",
    "\n",
    "i = 0\n",
    "# Plot the data points with gradient colors for each cluster\n",
    "for data, cmap, edgecolor in zip(data_pca, custom_colormaps, edgecolors):\n",
    "    norm = Normalize(vmin=0, vmax=len(data))\n",
    "    sm = ScalarMappable(cmap=cmap, norm=norm)\n",
    "    sm.set_array([])\n",
    "    colors = sm.to_rgba(range(len(data)))\n",
    "    \n",
    "    # Plot data points with gradient color\n",
    "    ax.scatter(data[:, 0], data[:, 1], s=10, color=colors, edgecolor=edgecolor, linewidth=0.5)\n",
    "    i = 0\n",
    "\n",
    "\n",
    "plt.axvline(0,  linestyle = '--', color='#808080', alpha=0.3)\n",
    "plt.axhline(0,  linestyle = '--', color='#808080', alpha=0.3)\n",
    "# plt.grid(True)\n",
    "# plt.axis('equal')\n",
    "plt.xlabel('PC 1')\n",
    "plt.ylabel('PC 2')\n",
    "# plt.ylim(-1,1)\n",
    "# plt.xlim(-1,1)\n",
    "plt.xticks([-1, -0.5, 0, 0.5, 1])\n",
    "plt.yticks([-1, -0.5, 0, 0.5, 1])\n",
    "plt.title('Population responcses in PC space')\n",
    "# plt.legend()\n",
    "plt.tight_layout()\n",
    "# plt.savefig(f'C:\\\\Users\\\\ebukina\\\\Desktop\\\\eva\\\\results\\\\models_evening\\\\{mouse}_S{Session}_pca.png', dpi=300, bbox_inches='tight')\n",
    "plt.show() "
   ]
  },
  {
   "cell_type": "code",
   "execution_count": 35,
   "metadata": {},
   "outputs": [
    {
     "name": "stderr",
     "output_type": "stream",
     "text": [
      "C:\\Users\\ebukina\\AppData\\Local\\Temp\\ipykernel_7740\\2465973930.py:3: MatplotlibDeprecationWarning: The get_cmap function was deprecated in Matplotlib 3.7 and will be removed two minor releases later. Use ``matplotlib.colormaps[name]`` or ``matplotlib.colormaps.get_cmap(obj)`` instead.\n",
      "  colors = plt.cm.get_cmap(base_cmap)(np.linspace(0.3, 1, 256))  # Start from a darker shade\n"
     ]
    },
    {
     "data": {
      "image/png": "[encoded data removed]",
      "text/plain": [
       "<Figure size 250x250 with 1 Axes>"
      ]
     },
     "metadata": {},
     "output_type": "display_data"
    }
   ],
   "source": [
    "data_pca = [a1_pca, b1_pca, a2_pca, b2_pca]\n",
    "colors = ['#1F77B4', '#FF8113', '#1F77B4', '#FF8113']\n",
    "names = ['alpha1', 'beta1', 'alpha2', 'beta2']\n",
    "base_colormaps = ['Blues', 'Oranges', 'Blues', 'Oranges']\n",
    "# edgecolors = ['green', 'green', 'red', 'red']\n",
    "markers = ['o','o','^','^']\n",
    "custom_colormaps = [create_custom_cmap(cmap) for cmap in base_colormaps]\n",
    "\n",
    "fig, ax = plt.subplots(figsize=(2.5,2.5))\n",
    "\n",
    "i = 0\n",
    "for data, color in zip(data_pca, colors):\n",
    "    mean, cov = fit_gaussian(data)\n",
    "    plot_ellipse(mean, cov, ax, color=color)\n",
    "    i+=1\n",
    "\n",
    "\n",
    "i = 0\n",
    "# Plot the data points with gradient colors for each cluster\n",
    "for data, cmap, marker in zip(data_pca, custom_colormaps, markers):\n",
    "    norm = Normalize(vmin=0, vmax=len(data))\n",
    "    sm = ScalarMappable(cmap=cmap, norm=norm)\n",
    "    sm.set_array([])\n",
    "    colors = sm.to_rgba(range(len(data)))\n",
    "    \n",
    "    # Plot data points with gradient color\n",
    "    ax.scatter(data[:, 0], data[:, 1], s=10, color=colors, edgecolor='k', marker = marker, linewidth=0.5)\n",
    "    i = 0\n",
    "\n",
    "plt.axvline(0,  linestyle = '--', color='#808080', alpha=0.3)\n",
    "plt.axhline(0,  linestyle = '--', color='#808080', alpha=0.3)\n",
    "# plt.grid(True)\n",
    "# plt.axis('equal')\n",
    "plt.xlabel('PC 1')\n",
    "plt.ylabel('PC 2')\n",
    "# plt.ylim(-1,1)\n",
    "# plt.xlim(-1,1)\n",
    "plt.xticks([-1, 0, 1])\n",
    "plt.yticks([-1, 0, 1])\n",
    "# plt.title('Population responcses in PC space')\n",
    "# plt.legend()\n",
    "plt.tight_layout()\n",
    "plt.savefig(f'C:\\\\Users\\\\ebukina\\\\Desktop\\\\eva\\\\results\\\\models_evening\\\\{mouse}_S{Session}_pca_mini.png', dpi=300, bbox_inches='tight')\n",
    "plt.show() "
   ]
  },
  {
   "cell_type": "code",
   "execution_count": 26,
   "metadata": {},
   "outputs": [
    {
     "data": {
      "image/png": "[encoded data removed]",
      "text/plain": [
       "<Figure size 400x400 with 1 Axes>"
      ]
     },
     "metadata": {},
     "output_type": "display_data"
    }
   ],
   "source": [
    "# data_pca = [a1_pca, b1_pca, a2_pca, b2_pca]\n",
    "# colors = ['#1F77B4', '#FF8113', '#1eb3b3', '#ff1414']\n",
    "# names = ['alpha1', 'beta1', 'alpha2', 'beta2']\n",
    "\n",
    "# fig, ax = plt.subplots(figsize=(4, 4))\n",
    "\n",
    "# i = 0\n",
    "# for data, color in zip(data_pca, colors):\n",
    "#     mean, cov = fit_gaussian(data)\n",
    "#     plot_ellipse(mean, cov, ax, color=color)\n",
    "#     i+=1\n",
    "\n",
    "# i = 0\n",
    "# for data, color in zip(data_pca, colors):\n",
    "#     # Plot data points\n",
    "#     ax.scatter(data[:, 0], data[:, 1], s=30, color=color, label=names[i], edgecolor='k',  linewidth=0.5)\n",
    "#     i+=1\n",
    "\n",
    "# plt.axvline(0,  linestyle = '--', color='#808080', alpha=0.3)\n",
    "# plt.axhline(0,  linestyle = '--', color='#808080', alpha=0.3)\n",
    "# # plt.grid(True)\n",
    "# # plt.axis('equal')\n",
    "# plt.xlabel('PC 1')\n",
    "# plt.ylabel('PC 2')\n",
    "# # plt.ylim(-1,1)\n",
    "# # plt.xlim(-1,1)\n",
    "# plt.xticks([-1, -0.5, 0, 0.5, 1])\n",
    "# plt.yticks([-1, -0.5, 0, 0.5, 1])\n",
    "# plt.title('Population responcses in PC space')\n",
    "# # plt.legend()\n",
    "# plt.tight_layout()\n",
    "# plt.savefig(f'C:\\\\Users\\\\ebukina\\\\Desktop\\\\eva\\\\results\\\\models_evening\\\\{mouse}_S{Session}_pca.png', dpi=300, bbox_inches='tight')\n",
    "# plt.show() "
   ]
  },
  {
   "cell_type": "code",
   "execution_count": 27,
   "metadata": {},
   "outputs": [
    {
     "data": {
      "image/png": "[encoded data removed]",
      "text/plain": [
       "<Figure size 250x250 with 1 Axes>"
      ]
     },
     "metadata": {},
     "output_type": "display_data"
    }
   ],
   "source": [
    "# data_pca = [a1_pca, b1_pca, a2_pca, b2_pca]\n",
    "# colors = ['#1F77B4', '#FF8113', '#1eb3b3', '#ff1414']\n",
    "# names = ['alpha1', 'beta1', 'alpha2', 'beta2']\n",
    "\n",
    "# fig, ax = plt.subplots(figsize=(2.5,2.5))\n",
    "\n",
    "# i = 0\n",
    "# for data, color in zip(data_pca, colors):\n",
    "#     mean, cov = fit_gaussian(data)\n",
    "#     plot_ellipse(mean, cov, ax, color=color)\n",
    "#     i+=1\n",
    "\n",
    "# i = 0\n",
    "# for data, color in zip(data_pca, colors):\n",
    "#     # Plot data points\n",
    "#     ax.scatter(data[:, 0], data[:, 1], s=10, color=color, label=names[i], edgecolor='k',  linewidth=0.5)\n",
    "#     i+=1\n",
    "\n",
    "# plt.axvline(0,  linestyle = '--', color='#808080', alpha=0.3)\n",
    "# plt.axhline(0,  linestyle = '--', color='#808080', alpha=0.3)\n",
    "# # plt.grid(True)\n",
    "# # plt.axis('equal')\n",
    "# plt.xlabel('PC 1')\n",
    "# plt.ylabel('PC 2')\n",
    "# # plt.ylim(-1,1)\n",
    "# # plt.xlim(-1,1)\n",
    "# plt.xticks([-1, 0, 1])\n",
    "# plt.yticks([-1, 0, 1])\n",
    "# # plt.title('Population responcses in PC space')\n",
    "# # plt.legend()\n",
    "# plt.tight_layout()\n",
    "# plt.savefig(f'C:\\\\Users\\\\ebukina\\\\Desktop\\\\eva\\\\results\\\\models_evening\\\\{mouse}_S{Session}_pca_mini.png', dpi=300, bbox_inches='tight')\n",
    "# plt.show() "
   ]
  },
  {
   "cell_type": "code",
   "execution_count": 36,
   "metadata": {},
   "outputs": [],
   "source": [
    "from scipy.spatial.distance import mahalanobis\n",
    "import scipy.stats as stats\n",
    "from scipy.stats import percentileofscore\n",
    "import seaborn as sns\n",
    "import math\n",
    "\n",
    "def euclidean(point1, point2):\n",
    "    x1, y1 = point1\n",
    "    x2, y2 = point2\n",
    "    return math.sqrt((x2 - x1)**2 + (y2 - y1)**2)"
   ]
  },
  {
   "cell_type": "code",
   "execution_count": 37,
   "metadata": {},
   "outputs": [],
   "source": [
    "covar = np.cov(principal_components.T)\n",
    "covarinv = np.linalg.inv(covar)\n",
    "\n",
    "# sparsity\n",
    "D_aa = [mahalanobis(x, centroid_a1_pca, covarinv) for x in a1_pca]\n",
    "D_ab = [mahalanobis(x, centroid_a1_pca, covarinv) for x in b1_pca]\n",
    "D_ac = [mahalanobis(x, centroid_a1_pca, covarinv) for x in a2_pca]\n",
    "D_ad = [mahalanobis(x, centroid_a1_pca, covarinv) for x in b2_pca]\n",
    "\n",
    "D_ba = [mahalanobis(x, centroid_b1_pca, covarinv) for x in a1_pca]\n",
    "D_bb = [mahalanobis(x, centroid_b1_pca, covarinv) for x in b1_pca]\n",
    "D_bc = [mahalanobis(x, centroid_b1_pca, covarinv) for x in a2_pca]\n",
    "D_bd = [mahalanobis(x, centroid_b1_pca, covarinv) for x in b2_pca]\n",
    "\n",
    "D_ca = [mahalanobis(x, centroid_a2_pca, covarinv) for x in a1_pca]\n",
    "D_cb = [mahalanobis(x, centroid_a2_pca, covarinv) for x in b1_pca]\n",
    "D_cc = [mahalanobis(x, centroid_a2_pca, covarinv) for x in a2_pca]\n",
    "D_cd = [mahalanobis(x, centroid_a2_pca, covarinv) for x in b2_pca]\n",
    "\n",
    "D_da = [mahalanobis(x, centroid_b2_pca, covarinv) for x in a1_pca]\n",
    "D_db = [mahalanobis(x, centroid_b2_pca, covarinv) for x in b1_pca]\n",
    "D_dc = [mahalanobis(x, centroid_b2_pca, covarinv) for x in a2_pca]\n",
    "D_dd = [mahalanobis(x, centroid_b2_pca, covarinv) for x in b2_pca]\n",
    "\n",
    "\n",
    "\n",
    "\n",
    "# assemble matrix\n",
    "D_matrix = np.zeros((4,4))\n",
    "D_matrix[0,0] = np.median(D_aa)\n",
    "D_matrix[0,1] = np.median(D_ab)\n",
    "D_matrix[0,2] = np.median(D_ac)\n",
    "D_matrix[0,3] = np.median(D_ad)\n",
    "\n",
    "D_matrix[1,0] = np.median(D_ba)\n",
    "D_matrix[1,1] = np.median(D_bb)\n",
    "D_matrix[1,2] = np.median(D_bc)\n",
    "D_matrix[1,3] = np.median(D_bd)\n",
    "\n",
    "D_matrix[2,0] = np.median(D_ca)\n",
    "D_matrix[2,1] = np.median(D_cb)\n",
    "D_matrix[2,2] = np.median(D_cc)\n",
    "D_matrix[2,3] = np.median(D_cd)\n",
    "\n",
    "D_matrix[3,0] = np.median(D_da)\n",
    "D_matrix[3,1] = np.median(D_db)\n",
    "D_matrix[3,2] = np.median(D_dc)\n",
    "D_matrix[3,3] = np.median(D_dd)\n"
   ]
  },
  {
   "cell_type": "code",
   "execution_count": 38,
   "metadata": {},
   "outputs": [],
   "source": [
    "save_path = f'C:\\\\Users\\\\ebukina\\\\Desktop\\\\eva\\\\results\\\\models_evening\\\\{mouse}_S{Session}_D_matrix.pkl'\n",
    "with open(save_path, 'wb') as f:\n",
    "    pickle.dump(D_matrix, f)"
   ]
  },
  {
   "cell_type": "code",
   "execution_count": 39,
   "metadata": {},
   "outputs": [],
   "source": [
    "import seaborn as sns"
   ]
  },
  {
   "cell_type": "code",
   "execution_count": 47,
   "metadata": {},
   "outputs": [],
   "source": [
    "def plot_distance_matrix(D_matrix, D_type = \"MD\", rotate=False):\n",
    "    plt.figure(figsize=(4, 2.5))\n",
    "\n",
    "    labels = ['Alpha1', 'Beta1', 'Alpha2', 'Beta2']\n",
    "\n",
    "    if D_type=='MD':\n",
    "        cbar_label = 'Mahalanobis distance'\n",
    "    else:\n",
    "        cbar_label = 'Euclidean distance'\n",
    "\n",
    "    if rotate:\n",
    "        # Create the heatmap\n",
    "        heatmap = sns.heatmap(D_matrix, annot=D_matrix, cmap='binary', cbar_kws={'label': cbar_label}, linewidths=1, linecolor='white', square=True, vmin=0, vmax=math.sqrt(8))\n",
    "\n",
    "        # # Customize the heatmap\n",
    "        heatmap.set_xticklabels(labels, rotation=0)\n",
    "        heatmap.set_yticklabels(labels, rotation=90)\n",
    "\n",
    "        cbar = heatmap.collections[0].colorbar\n",
    "        cbar.ax.tick_params(rotation=90)\n",
    "\n",
    "    else:\n",
    "        # Create the heatmap\n",
    "        sns.heatmap(D_matrix, annot=D_matrix, cmap='binary', cbar_kws={'label': cbar_label}, linewidths=1, linecolor='white', square=True, vmin=0, vmax=math.sqrt(8))\n",
    "\n",
    "        # # Customize the heatmap\n",
    "        plt.xticks(ticks=np.arange(len(labels))+0.5, labels=labels, rotation=0)\n",
    "        plt.yticks(ticks=np.arange(len(labels))+0.5, labels=labels, rotation=90)\n",
    "\n",
    "    plt.title('Distance in PC space\\n')\n",
    "    plt.savefig(f'C:\\\\Users\\\\ebukina\\\\Desktop\\\\eva\\\\results\\\\models_evening\\\\{mouse}_S{Session}_{D_type}_matrix.png', dpi=300, bbox_inches='tight')\n",
    "    plt.show()"
   ]
  },
  {
   "cell_type": "code",
   "execution_count": 48,
   "metadata": {},
   "outputs": [
    {
     "data": {
      "image/png": "[encoded data removed]",
      "text/plain": [
       "<Figure size 400x250 with 2 Axes>"
      ]
     },
     "metadata": {},
     "output_type": "display_data"
    }
   ],
   "source": [
    "plot_distance_matrix(D_matrix)"
   ]
  },
  {
   "cell_type": "code",
   "execution_count": 42,
   "metadata": {},
   "outputs": [],
   "source": [
    "# distance bw centroids\n",
    "D_ab_x = mahalanobis(centroid_a1_pca, centroid_b1_pca, covarinv)\n",
    "D_ac_x = mahalanobis(centroid_a1_pca, centroid_a2_pca, covarinv)\n",
    "D_ad_x = mahalanobis(centroid_a1_pca, centroid_b2_pca, covarinv)\n",
    "D_bc_x = mahalanobis(centroid_b1_pca, centroid_a1_pca, covarinv)\n",
    "D_bd_x = mahalanobis(centroid_b1_pca, centroid_b2_pca, covarinv)\n",
    "D_cd_x = mahalanobis(centroid_a2_pca, centroid_b2_pca, covarinv)"
   ]
  },
  {
   "cell_type": "code",
   "execution_count": 43,
   "metadata": {},
   "outputs": [],
   "source": [
    "MD_x = [D_ab_x,D_ac_x,D_ad_x,D_bc_x,D_bd_x,D_cd_x]"
   ]
  },
  {
   "cell_type": "code",
   "execution_count": 44,
   "metadata": {},
   "outputs": [],
   "source": [
    "save_path = f'C:\\\\Users\\\\ebukina\\\\Desktop\\\\eva\\\\results\\\\models_evening\\\\{mouse}_S{Session}_MD_centroids.pkl'\n",
    "with open(save_path, 'wb') as f:\n",
    "    pickle.dump(MD_x, f)"
   ]
  },
  {
   "cell_type": "code",
   "execution_count": 53,
   "metadata": {},
   "outputs": [],
   "source": [
    "ED_aa = [euclidean(x, centroid_a1_pca) for x in a1_pca]\n",
    "ED_ab = [euclidean(x, centroid_a1_pca) for x in b1_pca]\n",
    "ED_ac = [euclidean(x, centroid_a1_pca) for x in a2_pca]\n",
    "ED_ad = [euclidean(x, centroid_a1_pca) for x in b2_pca]\n",
    "\n",
    "ED_ba = [euclidean(x, centroid_b1_pca) for x in a1_pca]\n",
    "ED_bb = [euclidean(x, centroid_b1_pca) for x in b1_pca]\n",
    "ED_bc = [euclidean(x, centroid_b1_pca) for x in a2_pca]\n",
    "ED_bd = [euclidean(x, centroid_b1_pca) for x in b2_pca]\n",
    "\n",
    "ED_ca = [euclidean(x, centroid_a2_pca) for x in a1_pca]\n",
    "ED_cb = [euclidean(x, centroid_a2_pca) for x in b1_pca]\n",
    "ED_cc = [euclidean(x, centroid_a2_pca) for x in a2_pca]\n",
    "ED_cd = [euclidean(x, centroid_a2_pca) for x in b2_pca]\n",
    "\n",
    "ED_da = [euclidean(x, centroid_b2_pca) for x in a1_pca]\n",
    "ED_db = [euclidean(x, centroid_b2_pca) for x in b1_pca]\n",
    "ED_dc = [euclidean(x, centroid_b2_pca) for x in a2_pca]\n",
    "ED_dd = [euclidean(x, centroid_b2_pca) for x in b2_pca]\n",
    "\n",
    "\n",
    "\n",
    "\n",
    "# assemble matrix\n",
    "ED_matrix = np.zeros((4,4))\n",
    "ED_matrix[0,0] = np.median(ED_aa)\n",
    "ED_matrix[0,1] = np.median(ED_ab)\n",
    "ED_matrix[0,2] = np.median(ED_ac)\n",
    "ED_matrix[0,3] = np.median(ED_ad)\n",
    "\n",
    "ED_matrix[1,0] = np.median(ED_ba)\n",
    "ED_matrix[1,1] = np.median(ED_bb)\n",
    "ED_matrix[1,2] = np.median(ED_bc)\n",
    "ED_matrix[1,3] = np.median(ED_bd)\n",
    "\n",
    "ED_matrix[2,0] = np.median(ED_ca)\n",
    "ED_matrix[2,1] = np.median(ED_cb)\n",
    "ED_matrix[2,2] = np.median(ED_cc)\n",
    "ED_matrix[2,3] = np.median(ED_cd)\n",
    "\n",
    "ED_matrix[3,0] = np.median(ED_da)\n",
    "ED_matrix[3,1] = np.median(ED_db)\n",
    "ED_matrix[3,2] = np.median(ED_dc)\n",
    "ED_matrix[3,3] = np.median(ED_dd)"
   ]
  },
  {
   "cell_type": "code",
   "execution_count": 54,
   "metadata": {},
   "outputs": [],
   "source": [
    "save_path = f'C:\\\\Users\\\\ebukina\\\\Desktop\\\\eva\\\\results\\\\models_evening\\\\{mouse}_S{Session}_ED_matrix.pkl'\n",
    "with open(save_path, 'wb') as f:\n",
    "    pickle.dump(ED_matrix, f)"
   ]
  },
  {
   "cell_type": "code",
   "execution_count": 55,
   "metadata": {},
   "outputs": [
    {
     "data": {
      "image/png": "[encoded data removed]",
      "text/plain": [
       "<Figure size 400x250 with 2 Axes>"
      ]
     },
     "metadata": {},
     "output_type": "display_data"
    }
   ],
   "source": [
    "plot_distance_matrix(ED_matrix, D_type = \"ED\", rotate=False)"
   ]
  },
  {
   "cell_type": "markdown",
   "metadata": {},
   "source": [
    "## Classifiers"
   ]
  },
  {
   "cell_type": "code",
   "execution_count": 58,
   "metadata": {},
   "outputs": [],
   "source": [
    "from sklearn.svm import SVC\n",
    "from sklearn.naive_bayes import GaussianNB\n",
    "from scipy.stats import percentileofscore\n",
    "from sklearn.model_selection import GridSearchCV\n",
    "from sklearn.preprocessing import StandardScaler\n",
    "from sklearn.metrics import classification_report, accuracy_score, confusion_matrix"
   ]
  },
  {
   "cell_type": "code",
   "execution_count": 57,
   "metadata": {},
   "outputs": [
    {
     "data": {
      "text/plain": [
       "((30, 36), (30, 36), (10, 36), (10, 36))"
      ]
     },
     "execution_count": 57,
     "metadata": {},
     "output_type": "execute_result"
    }
   ],
   "source": [
    "# data prep\n",
    "\n",
    "alpha1_data = fr_dic[a1_idx]\n",
    "beta1_data = fr_dic[b1_idx]\n",
    "alpha2_data = fr_dic[a2_idx]\n",
    "beta2_data = fr_dic[b2_idx]\n",
    "\n",
    "num_rows = alpha1_data.shape[0]\n",
    "shuffled_indices = list(range(num_rows))\n",
    "\n",
    "random.shuffle(shuffled_indices)\n",
    "alpha1_data = alpha1_data[shuffled_indices]\n",
    "random.shuffle(shuffled_indices)\n",
    "beta1_data = beta1_data[shuffled_indices]\n",
    "\n",
    "num_rows = alpha2_data.shape[0]\n",
    "shuffled_indices = list(range(num_rows))\n",
    "\n",
    "random.shuffle(shuffled_indices)\n",
    "alpha2_data = alpha2_data[shuffled_indices]\n",
    "random.shuffle(shuffled_indices)\n",
    "beta2_data = beta2_data[shuffled_indices]\n",
    "\n",
    "alpha1_data.shape, beta1_data.shape, alpha2_data.shape, beta2_data.shape"
   ]
  },
  {
   "cell_type": "code",
   "execution_count": 59,
   "metadata": {},
   "outputs": [],
   "source": [
    "# SVC linear\n",
    "def SVM_evening(alpha1_data, beta1_data, alpha2_data, beta2_data):\n",
    "    \n",
    "    train_ab = np.concatenate((alpha1_data,beta1_data), axis=0)\n",
    "    test_ab = np.concatenate((alpha2_data,beta2_data), axis=0)\n",
    "\n",
    "    # Standardize the data\n",
    "    scaler = StandardScaler()\n",
    "    train_ab = scaler.fit_transform(train_ab)\n",
    "    test_ab = scaler.fit_transform(test_ab)\n",
    "\n",
    "    y_train = np.concatenate((np.ones(alpha1_data.shape[0]),np.zeros(beta1_data.shape[0])))\n",
    "    y_test = np.concatenate((np.ones(alpha2_data.shape[0]),np.zeros(beta2_data.shape[0])))\n",
    "\n",
    "    # randomize train\n",
    "    num_rows = train_ab.shape[0]\n",
    "    shuffled_indices = list(range(num_rows))\n",
    "    random.shuffle(shuffled_indices)\n",
    "    train_ab = train_ab[shuffled_indices]\n",
    "    y_train = y_train[shuffled_indices]\n",
    "\n",
    "    svm_classifier_cv = SVC(kernel='linear', random_state=666)\n",
    "    svm_classifier_cv.fit(train_ab, y_train)\n",
    "    y_pred = svm_classifier_cv.predict(test_ab)\n",
    "    accuracy_svm = accuracy_score(y_test, y_pred)\n",
    "\n",
    "    return accuracy_svm"
   ]
  },
  {
   "cell_type": "code",
   "execution_count": 60,
   "metadata": {},
   "outputs": [
    {
     "data": {
      "text/plain": [
       "0.4"
      ]
     },
     "execution_count": 60,
     "metadata": {},
     "output_type": "execute_result"
    }
   ],
   "source": [
    "accuracy_svm = SVM_evening(alpha1_data,beta1_data,alpha2_data,beta2_data)\n",
    "accuracy_svm"
   ]
  },
  {
   "cell_type": "code",
   "execution_count": 61,
   "metadata": {},
   "outputs": [],
   "source": [
    "acc_sh = []\n",
    "# shuffle trials\n",
    "shuffled_indices = list(range((alpha1_data.shape[0]+alpha2_data.shape[0])*2))\n",
    "for sh in range(1000):\n",
    "    # data prep\n",
    "    data_aabb = np.concatenate((alpha1_data,beta1_data,alpha2_data,beta2_data), axis=0)\n",
    "    random.shuffle(shuffled_indices)\n",
    "    data_aabb = data_aabb[shuffled_indices]\n",
    "    k = alpha1_data.shape[0]\n",
    "    h = alpha2_data.shape[0]\n",
    "    a1_sh = data_aabb[:k]\n",
    "    b1_sh = data_aabb[k:k*2]\n",
    "    a2_sh = data_aabb[k*2:k*2+h]\n",
    "    b2_sh = data_aabb[k*2+h:]\n",
    "    \n",
    "    \n",
    "    acc_sh.append(SVM_evening(a1_sh, b1_sh, a2_sh, b2_sh))\n",
    "    "
   ]
  },
  {
   "cell_type": "code",
   "execution_count": 62,
   "metadata": {},
   "outputs": [
    {
     "data": {
      "text/plain": [
       "0.8055"
      ]
     },
     "execution_count": 62,
     "metadata": {},
     "output_type": "execute_result"
    }
   ],
   "source": [
    "acc_sh_sorted = np.sort(np.array(acc_sh))\n",
    "percentile_rank = percentileofscore(acc_sh_sorted, accuracy_svm)\n",
    "# one-tailored\n",
    "p_value_ab = 1-(percentile_rank/100)\n",
    "p_value_ab"
   ]
  },
  {
   "cell_type": "code",
   "execution_count": 63,
   "metadata": {},
   "outputs": [
    {
     "data": {
      "image/png": "[encoded data removed]",
      "text/plain": [
       "<Figure size 250x300 with 1 Axes>"
      ]
     },
     "metadata": {},
     "output_type": "display_data"
    }
   ],
   "source": [
    "plt.figure(figsize=(2.5,3))  \n",
    "bin_edges = np.arange(0, 1+0.04, 0.04)\n",
    "plt.hist(acc_sh, bins=bin_edges, alpha=0.5, color='#0000CD')\n",
    "plt.axvline(accuracy_svm,color='red', alpha=0.7)\n",
    "plt.xlabel('Accuracy', fontsize=12)\n",
    "plt.ylabel('Count', fontsize=12)\n",
    "plt.xticks([0.0,0.5,1.0]) \n",
    "plt.ylim(0,300)\n",
    "plt.title(f'{mouse}, S{Session},\\nSVM (linear kernel),\\nevening cv,\\ntrain_shuffle,\\nacc={accuracy_svm:.2f}, pval={p_value_ab:.3f}')\n",
    "plt.tight_layout()\n",
    "plt.savefig(f'C:\\\\Users\\\\ebukina\\\\Desktop\\\\eva\\\\results\\\\models_evening\\\\{mouse}_S{Session}_SVM_ab.png', dpi=300, bbox_inches='tight')\n",
    "plt.show()"
   ]
  },
  {
   "cell_type": "markdown",
   "metadata": {},
   "source": [
    "morning control"
   ]
  },
  {
   "cell_type": "code",
   "execution_count": 64,
   "metadata": {},
   "outputs": [],
   "source": [
    "def SVMm(alpha_data, beta_data, kernel = 'linear', cv=5):\n",
    "\n",
    "    # random.seed(666)\n",
    "    # params\n",
    "    num_rows = alpha_data.shape[0]\n",
    "    indices = list(range(num_rows))\n",
    "    train_proportion = 6 # out of 30 trials\n",
    "\n",
    "    # collect outcomes\n",
    "    accuracy_cv5 = []\n",
    "\n",
    "    for n in range(cv):\n",
    "        test_alpha_idx = random.sample(indices, train_proportion)\n",
    "        train_alpha_idx = [number for number in indices if number not in test_alpha_idx]\n",
    "        test_alpha = alpha_data[test_alpha_idx]\n",
    "        train_alpha = alpha_data[train_alpha_idx]\n",
    "\n",
    "        test_beta_idx = random.sample(indices, train_proportion)\n",
    "        train_beta_idx = [number for number in indices if number not in test_beta_idx]\n",
    "        test_beta = beta_data[test_beta_idx]\n",
    "        train_beta = beta_data[train_beta_idx]\n",
    "\n",
    "        test_ab = np.concatenate((test_alpha,test_beta), axis=0)\n",
    "        train_ab = np.concatenate((train_alpha,train_beta), axis=0)\n",
    "\n",
    "        # Standardize the data\n",
    "        scaler = StandardScaler()\n",
    "        test_ab = scaler.fit_transform(test_ab)\n",
    "        train_ab = scaler.fit_transform(train_ab)\n",
    "\n",
    "        y_test = np.concatenate((np.ones(test_alpha.shape[0]),np.zeros(test_beta.shape[0])))\n",
    "        y_train = np.concatenate((np.ones(train_alpha.shape[0]),np.zeros(train_beta.shape[0])))\n",
    "\n",
    "        # randomize train\n",
    "        num_rows = train_ab.shape[0]\n",
    "        shuffled_indices = list(range(num_rows))\n",
    "        random.shuffle(shuffled_indices)\n",
    "        train_ab = train_ab[shuffled_indices]\n",
    "        y_train = y_train[shuffled_indices]\n",
    "\n",
    "        svm_classifier_cv = SVC(kernel=kernel, random_state=666)\n",
    "        svm_classifier_cv.fit(train_ab, y_train)\n",
    "        y_pred = svm_classifier_cv.predict(test_ab)\n",
    "        accuracy_cv5.append(accuracy_score(y_test, y_pred)) \n",
    "\n",
    "    return np.mean(np.array(accuracy_cv5)) "
   ]
  },
  {
   "cell_type": "code",
   "execution_count": 65,
   "metadata": {},
   "outputs": [
    {
     "data": {
      "text/plain": [
       "0.95"
      ]
     },
     "execution_count": 65,
     "metadata": {},
     "output_type": "execute_result"
    }
   ],
   "source": [
    "acc_svm_m = SVMm(alpha1_data, beta1_data)\n",
    "acc_svm_m"
   ]
  },
  {
   "cell_type": "code",
   "execution_count": 66,
   "metadata": {},
   "outputs": [],
   "source": [
    "acc_sh_m = []\n",
    "# shuffle trials\n",
    "# random.seed(666)\n",
    "shuffled_indices = list(range(len(alpha1_data)*2))\n",
    "for sh in range(1000):\n",
    "    # data prep\n",
    "    data_ab = np.concatenate((alpha1_data,beta1_data), axis=0)\n",
    "    random.shuffle(shuffled_indices)\n",
    "    # print(shuffled_indices)\n",
    "    data_ab = data_ab[shuffled_indices]\n",
    "    k = alpha1_data.shape[0]\n",
    "    a_sh = data_ab[:k]\n",
    "    b_sh = data_ab[k:]\n",
    "    \n",
    "    acc_sh_m.append(SVMm(a_sh, b_sh))"
   ]
  },
  {
   "cell_type": "code",
   "execution_count": 67,
   "metadata": {},
   "outputs": [],
   "source": [
    "acc_sh_m_sorted = np.sort(np.array(acc_sh_m))\n",
    "percentile_rank = percentileofscore(acc_sh_m_sorted, np.mean(acc_svm_m))\n",
    "# one-tailored\n",
    "p_value_m = 1-(percentile_rank/100)"
   ]
  },
  {
   "cell_type": "code",
   "execution_count": 68,
   "metadata": {},
   "outputs": [
    {
     "data": {
      "image/png": "[encoded data removed]",
      "text/plain": [
       "<Figure size 250x300 with 1 Axes>"
      ]
     },
     "metadata": {},
     "output_type": "display_data"
    }
   ],
   "source": [
    "plt.figure(figsize=(2.5,3))  \n",
    "bin_edges = np.arange(0, 1+0.04, 0.04)\n",
    "plt.hist(acc_sh_m, bins=bin_edges, alpha=0.5, color='#FF6347')\n",
    "plt.axvline(acc_svm_m,color='red', alpha=0.7)\n",
    "plt.xlabel('Accuracy', fontsize=12)\n",
    "plt.ylabel('Count', fontsize=12)\n",
    "plt.xticks([0.0,0.5,1.0])  \n",
    "plt.ylim(0,300)\n",
    "plt.title(f'{mouse}, S{Session},\\nSVM (linear kernel),\\nmorning cv,\\ntrain&test_shuffle,\\nacc={acc_svm_m:.2f}, pval={p_value_m:.3f}')\n",
    "plt.tight_layout()\n",
    "plt.savefig(f'C:\\\\Users\\\\ebukina\\\\Desktop\\\\eva\\\\results\\\\models_evening\\\\{mouse}_S{Session}_SVM_m.png', dpi=300, bbox_inches='tight')\n",
    "plt.show()"
   ]
  },
  {
   "cell_type": "markdown",
   "metadata": {},
   "source": [
    "mornin vs evening decoding"
   ]
  },
  {
   "cell_type": "code",
   "execution_count": 71,
   "metadata": {},
   "outputs": [
    {
     "data": {
      "text/plain": [
       "[11, 26, 16, 27, 0, 18, 29, 25, 1, 15]"
      ]
     },
     "execution_count": 71,
     "metadata": {},
     "output_type": "execute_result"
    }
   ],
   "source": [
    "n_trials = alpha1_data.shape[0]\n",
    "trials_idx = np.arange(0,n_trials,1)\n",
    "take_idx = random.sample(list(trials_idx), k=alpha2_data.shape[0])\n",
    "take_idx"
   ]
  },
  {
   "cell_type": "code",
   "execution_count": 72,
   "metadata": {},
   "outputs": [
    {
     "data": {
      "text/plain": [
       "((20, 36), (20, 36))"
      ]
     },
     "execution_count": 72,
     "metadata": {},
     "output_type": "execute_result"
    }
   ],
   "source": [
    "ab1_data = np.concatenate((alpha1_data[take_idx],beta1_data[take_idx]), axis=0)\n",
    "ab2_data = np.concatenate((alpha2_data,beta2_data), axis=0)\n",
    "ab1_data.shape, ab2_data.shape"
   ]
  },
  {
   "cell_type": "code",
   "execution_count": 75,
   "metadata": {},
   "outputs": [
    {
     "data": {
      "text/plain": [
       "4.0"
      ]
     },
     "execution_count": 75,
     "metadata": {},
     "output_type": "execute_result"
    }
   ],
   "source": [
    "6/30*20"
   ]
  },
  {
   "cell_type": "code",
   "execution_count": 76,
   "metadata": {},
   "outputs": [],
   "source": [
    "def SVMme(alpha_data, beta_data, kernel = 'linear', cv=5):\n",
    "\n",
    "    # random.seed(666)\n",
    "    # params\n",
    "    num_rows = alpha_data.shape[0]\n",
    "    indices = list(range(num_rows))\n",
    "    train_proportion = int(0.2*len(alpha_data)) # out of 30 trials\n",
    "\n",
    "    # collect outcomes\n",
    "    accuracy_cv5 = []\n",
    "\n",
    "    for n in range(cv):\n",
    "        test_alpha_idx = random.sample(indices, train_proportion)\n",
    "        train_alpha_idx = [number for number in indices if number not in test_alpha_idx]\n",
    "        test_alpha = alpha_data[test_alpha_idx]\n",
    "        train_alpha = alpha_data[train_alpha_idx]\n",
    "\n",
    "        test_beta_idx = random.sample(indices, train_proportion)\n",
    "        train_beta_idx = [number for number in indices if number not in test_beta_idx]\n",
    "        test_beta = beta_data[test_beta_idx]\n",
    "        train_beta = beta_data[train_beta_idx]\n",
    "\n",
    "        test_ab = np.concatenate((test_alpha,test_beta), axis=0)\n",
    "        train_ab = np.concatenate((train_alpha,train_beta), axis=0)\n",
    "\n",
    "        # Standardize the data\n",
    "        scaler = StandardScaler()\n",
    "        test_ab = scaler.fit_transform(test_ab)\n",
    "        train_ab = scaler.fit_transform(train_ab)\n",
    "\n",
    "        y_test = np.concatenate((np.ones(test_alpha.shape[0]),np.zeros(test_beta.shape[0])))\n",
    "        y_train = np.concatenate((np.ones(train_alpha.shape[0]),np.zeros(train_beta.shape[0])))\n",
    "\n",
    "        # randomize train\n",
    "        num_rows = train_ab.shape[0]\n",
    "        shuffled_indices = list(range(num_rows))\n",
    "        random.shuffle(shuffled_indices)\n",
    "        train_ab = train_ab[shuffled_indices]\n",
    "        y_train = y_train[shuffled_indices]\n",
    "\n",
    "        svm_classifier_cv = SVC(kernel=kernel, random_state=666)\n",
    "        svm_classifier_cv.fit(train_ab, y_train)\n",
    "        y_pred = svm_classifier_cv.predict(test_ab)\n",
    "        accuracy_cv5.append(accuracy_score(y_test, y_pred)) \n",
    "\n",
    "    return np.mean(np.array(accuracy_cv5)) "
   ]
  },
  {
   "cell_type": "code",
   "execution_count": 77,
   "metadata": {},
   "outputs": [
    {
     "data": {
      "text/plain": [
       "1.0"
      ]
     },
     "execution_count": 77,
     "metadata": {},
     "output_type": "execute_result"
    }
   ],
   "source": [
    "acc_svm_me = SVMme(ab1_data,ab2_data)\n",
    "acc_svm_me"
   ]
  },
  {
   "cell_type": "code",
   "execution_count": 79,
   "metadata": {},
   "outputs": [],
   "source": [
    "acc_sh_me = []\n",
    "\n",
    "shuffled_indices = list(range(len(ab1_data)*2))\n",
    "for sh in range(1000):\n",
    "    # data prep\n",
    "    data_ab = np.concatenate((ab1_data,ab2_data), axis=0)\n",
    "    random.shuffle(shuffled_indices)\n",
    "    # print(shuffled_indices)\n",
    "    data_ab = data_ab[shuffled_indices]\n",
    "    k = ab1_data.shape[0]\n",
    "    a_sh = data_ab[:k]\n",
    "    b_sh = data_ab[k:]\n",
    "    \n",
    "    acc_sh_me.append(SVMme(a_sh, b_sh))"
   ]
  },
  {
   "cell_type": "code",
   "execution_count": 80,
   "metadata": {},
   "outputs": [],
   "source": [
    "acc_sh_me_sorted = np.sort(np.array(acc_sh_me))\n",
    "percentile_rank = percentileofscore(acc_sh_me_sorted, np.mean(acc_svm_me))\n",
    "# one-tailored\n",
    "p_value_me = 1-(percentile_rank/100)"
   ]
  },
  {
   "cell_type": "code",
   "execution_count": 81,
   "metadata": {},
   "outputs": [
    {
     "data": {
      "image/png": "[encoded data removed]",
      "text/plain": [
       "<Figure size 250x300 with 1 Axes>"
      ]
     },
     "metadata": {},
     "output_type": "display_data"
    }
   ],
   "source": [
    "plt.figure(figsize=(2.5,3))  \n",
    "bin_edges = np.arange(0, 1+0.04, 0.04)\n",
    "plt.hist(acc_sh_me, bins=bin_edges, alpha=0.5, color='gray')\n",
    "plt.axvline(acc_svm_me,color='red', alpha=0.7)\n",
    "plt.xlabel('Accuracy', fontsize=12)\n",
    "plt.ylabel('Count', fontsize=12)\n",
    "plt.xticks([0.0,0.5,1.0])  \n",
    "plt.ylim(0,300)\n",
    "plt.title(f'{mouse}, S{Session},\\nSVM (linear kernel),\\nmorning cv,\\ntrain&test_shuffle,\\nacc={acc_svm_me:.2f}, pval={p_value_me:.3f}')\n",
    "plt.tight_layout()\n",
    "plt.savefig(f'C:\\\\Users\\\\ebukina\\\\Desktop\\\\eva\\\\results\\\\models_evening\\\\{mouse}_S{Session}_SVM_me.png', dpi=300, bbox_inches='tight')\n",
    "plt.show()"
   ]
  },
  {
   "cell_type": "code",
   "execution_count": 82,
   "metadata": {},
   "outputs": [],
   "source": [
    "classifiers_results = {'accuracy_svm':accuracy_svm, \n",
    "                       'p_value_ab':p_value_ab,\n",
    "                       'acc_svm_m':acc_svm_m,\n",
    "                       'p_value_m':p_value_m,\n",
    "                       'acc_svm_me':acc_svm_me,\n",
    "                       'p_value_me':p_value_me}\n",
    "\n",
    "# # evening\n",
    "# accuracy_svm\n",
    "# p_value_ab\n",
    "\n",
    "# # morning\n",
    "# acc_svm_m\n",
    "# p_value_m\n",
    "\n",
    "# # morning vs evening\n",
    "# acc_svm_me\n",
    "# p_value_me"
   ]
  },
  {
   "cell_type": "code",
   "execution_count": 83,
   "metadata": {},
   "outputs": [],
   "source": [
    "save_path = f'C:\\\\Users\\\\ebukina\\\\Desktop\\\\eva\\\\results\\\\models_evening\\\\{mouse}_S{Session}_classifiers_results.pkl'\n",
    "with open(save_path, 'wb') as f:\n",
    "    pickle.dump(classifiers_results, f)"
   ]
  },
  {
   "cell_type": "code",
   "execution_count": 49,
   "metadata": {},
   "outputs": [],
   "source": [
    "# # load\n",
    "# with open(save_path, 'rb') as f:\n",
    "#     classifiers_results = pickle.load(f)\n",
    "# classifiers_results"
   ]
  }
 ],
 "metadata": {
  "kernelspec": {
   "display_name": "Python 3 (ipykernel)",
   "language": "python",
   "name": "python3"
  },
  "language_info": {
   "codemirror_mode": {
    "name": "ipython",
    "version": 3
   },
   "file_extension": ".py",
   "mimetype": "text/x-python",
   "name": "python",
   "nbconvert_exporter": "python",
   "pygments_lexer": "ipython3",
   "version": "3.11.5"
  }
 },
 "nbformat": 4,
 "nbformat_minor": 1
}
