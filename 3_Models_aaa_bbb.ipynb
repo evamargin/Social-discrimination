{
 "cells": [
  {
   "cell_type": "markdown",
   "metadata": {},
   "source": [
    "# Models \n",
    "\n",
    "- only a|a|a or b|b|b\n",
    "- only morning\n",
    "- only SVM linear"
   ]
  },
  {
   "cell_type": "code",
   "execution_count": 168,
   "metadata": {},
   "outputs": [],
   "source": [
    "import sys\n",
    "import os as os\n",
    "import numpy as np\n",
    "try:\n",
    "    import cPickle as pickle\n",
    "except:\n",
    "    import pickle as pkl\n",
    "\n",
    "import scipy as scipy\n",
    "import scipy.io as spio\n",
    "import pandas as pd\n",
    "import matplotlib.pyplot as plt\n",
    "import matplotlib as mpl\n",
    "from scipy import signal\n",
    "from scipy.signal import find_peaks\n",
    "from scipy.ndimage import gaussian_filter1d\n",
    "from scipy.io.matlab import mat_struct\n",
    "import pickle\n",
    "import random\n",
    "random.seed(666)\n",
    "\n",
    "def loadmat(filename):\n",
    "    '''\n",
    "    this function should be called instead of direct spio.loadmat\n",
    "    as it cures the problem of not properly recovering python dictionaries\n",
    "    from mat files. It calls the function check keys to cure all entries\n",
    "    which are still mat-objects\n",
    "    '''\n",
    "    data = spio.loadmat(filename, struct_as_record=True, squeeze_me=True)\n",
    "    return _check_keys(data)\n",
    "\n",
    "def _check_keys(dict):\n",
    "    '''\n",
    "    checks if entries in dictionary are mat-objects. If yes\n",
    "    todict is called to change them to nested dictionaries\n",
    "    '''\n",
    "    for key in dict:\n",
    "        if isinstance(dict[key], scipy.io.matlab.mat_struct):\n",
    "            dict[key] = _todict(dict[key])\n",
    "    return dict        \n",
    "\n",
    "def _todict(matobj):\n",
    "    '''\n",
    "    A recursive function which constructs from matobjects nested dictionaries\n",
    "    '''\n",
    "    dict = {}\n",
    "    for strg in matobj._fieldnames:\n",
    "        elem = matobj.__dict__[strg]\n",
    "        if isinstance(elem, scipy.io.matlab.mat_struct):\n",
    "            dict[strg] = _todict(elem)\n",
    "        else:\n",
    "            dict[strg] = elem\n",
    "    return dict"
   ]
  },
  {
   "cell_type": "markdown",
   "metadata": {},
   "source": [
    "## Load session data"
   ]
  },
  {
   "cell_type": "code",
   "execution_count": 169,
   "metadata": {},
   "outputs": [],
   "source": [
    "meta = {}\n",
    "meta[21] = {'mouse':'3C290', 'ks':'Kilosort_2024-05-15_180443', 'del_units':None, 'vis_mice':np.array(['beta1', 'beta2', 'beta3']), 'active_blocks' : [1,2,3]}\n",
    "meta[22] = {'mouse':'3C290', 'ks':'Kilosort_2024-05-08_160558', 'del_units':None, 'vis_mice':np.array(['alpha1', 'alpha2', 'alpha3']), 'active_blocks' : [0,1,2]}\n"
   ]
  },
  {
   "cell_type": "code",
   "execution_count": 170,
   "metadata": {},
   "outputs": [],
   "source": [
    "Session = 22"
   ]
  },
  {
   "cell_type": "code",
   "execution_count": 171,
   "metadata": {},
   "outputs": [],
   "source": [
    "mouse = meta[Session]['mouse']\n",
    "ks = meta[Session]['ks']\n",
    "del_units=meta[Session]['del_units']\n",
    "vis_mice = meta[Session]['vis_mice']\n",
    "active_blocks = meta[Session]['active_blocks']"
   ]
  },
  {
   "cell_type": "code",
   "execution_count": null,
   "metadata": {},
   "outputs": [],
   "source": []
  },
  {
   "cell_type": "code",
   "execution_count": 172,
   "metadata": {},
   "outputs": [],
   "source": [
    "idx1 = active_blocks[0]\n",
    "idx2 = active_blocks[1]\n",
    "idx3 = active_blocks[2]"
   ]
  },
  {
   "cell_type": "code",
   "execution_count": 173,
   "metadata": {},
   "outputs": [],
   "source": [
    "# create folder to save results\n",
    "try:\n",
    "    os.makedirs(f'C:\\\\Users\\\\ebukina\\\\Desktop\\\\eva\\\\results\\\\aaa_bbb')\n",
    "except:\n",
    "    pass"
   ]
  },
  {
   "cell_type": "markdown",
   "metadata": {},
   "source": [
    "### Ephys data"
   ]
  },
  {
   "cell_type": "code",
   "execution_count": 174,
   "metadata": {},
   "outputs": [],
   "source": [
    "KSdir = f'L:\\\\everyone\\\\sharedDATA\\\\ProcessedDATA\\\\{mouse}\\\\{mouse}_S{Session}\\\\{ks}\\\\'\n",
    "\n",
    "spiketimesfile = KSdir+\"spike_times.npy\"  \n",
    "spiketimes = np.load(spiketimesfile)  #### all spiketimes as indexes regardless of cluster\n",
    "\n",
    "clusterfile = KSdir+\"spike_clusters.npy\"\n",
    "spikeclusters = np.load(clusterfile) #### cluster id for each detected spike\n",
    "\n",
    "Clusterinfofile = KSdir+\"cluster_info.tsv\"\n",
    "Clusterinfo = pd.read_csv(Clusterinfofile,sep='\\t') #### cluster meta-data matrix"
   ]
  },
  {
   "cell_type": "code",
   "execution_count": 175,
   "metadata": {},
   "outputs": [
    {
     "name": "stdout",
     "output_type": "stream",
     "text": [
      "Session 22: 26 good clusters\n"
     ]
    }
   ],
   "source": [
    "goodclusts = Clusterinfo['cluster_id'][np.where(Clusterinfo['group']=='good')[0]]\n",
    "goods = []\n",
    "for clust in goodclusts :\n",
    "    goods.append(clust)\n",
    "print(f'Session {Session}: {len(goods)} good clusters')"
   ]
  },
  {
   "cell_type": "code",
   "execution_count": 176,
   "metadata": {},
   "outputs": [],
   "source": [
    "goodspiketimes = {}\n",
    "\n",
    "spikethresh = 1000 # min nb of spikes\n",
    "for goodunit in goods :\n",
    "    goodinds = np.where(spikeclusters==goodunit)[0]\n",
    "    if goodinds.shape[0] > spikethresh : \n",
    "        goodspiketimes[goodunit] = spiketimes[goodinds]"
   ]
  },
  {
   "cell_type": "code",
   "execution_count": 177,
   "metadata": {},
   "outputs": [
    {
     "data": {
      "text/plain": [
       "18"
      ]
     },
     "execution_count": 177,
     "metadata": {},
     "output_type": "execute_result"
    }
   ],
   "source": [
    "len(goodspiketimes.keys())"
   ]
  },
  {
   "cell_type": "markdown",
   "metadata": {},
   "source": [
    "### Behavior data"
   ]
  },
  {
   "cell_type": "code",
   "execution_count": 178,
   "metadata": {},
   "outputs": [],
   "source": [
    "matfile =  f'L:\\\\everyone\\\\sharedDATA\\\\ProcessedDATA\\\\{mouse}\\\\{mouse}_S{Session}\\\\Behaviour.mat'\n",
    "EvaBehavior = loadmat(matfile)"
   ]
  },
  {
   "cell_type": "code",
   "execution_count": 179,
   "metadata": {},
   "outputs": [],
   "source": [
    "def load_behavioral_event(event_idx, time_to_idx = True):\n",
    "    '''\n",
    "    returns dictionary; keys - blocks; inside - array with event :\n",
    "    time stamps in [sec] if time_to_idx = False\n",
    "    indexes if time_to_idx = True\n",
    "    '''\n",
    "    event_dic = {}\n",
    "\n",
    "    for block in np.arange(EvaBehavior['Behaviour'].shape[0]) :\n",
    "        if time_to_idx:\n",
    "            event_dic[block] = EvaBehavior['Behaviour'][block][event_idx]*20000\n",
    "        else:\n",
    "            event_dic[block] = EvaBehavior['Behaviour'][block][event_idx]\n",
    "        event_dic[block] = event_dic[block].astype(int)\n",
    "    \n",
    "    return event_dic"
   ]
  },
  {
   "cell_type": "code",
   "execution_count": 180,
   "metadata": {},
   "outputs": [],
   "source": [
    "TestSocialSampleWindowPerTrial = load_behavioral_event(12)"
   ]
  },
  {
   "cell_type": "markdown",
   "metadata": {},
   "source": [
    "## Data prep: firing rate array"
   ]
  },
  {
   "cell_type": "code",
   "execution_count": 181,
   "metadata": {},
   "outputs": [],
   "source": [
    "import copy"
   ]
  },
  {
   "cell_type": "code",
   "execution_count": 182,
   "metadata": {},
   "outputs": [],
   "source": [
    "def fr_matrix_prep(beforesamples, aftersamples, blocks, bins, del_units=None):\n",
    "    # discard wierd cells based on rasters\n",
    "    goodspiketimes_copy = copy.deepcopy(goodspiketimes)\n",
    "\n",
    "    try:\n",
    "        for unit in del_units:\n",
    "            del goodspiketimes_copy[unit]\n",
    "    except:\n",
    "        pass\n",
    "\n",
    "    units = goodspiketimes_copy.keys()\n",
    "    fr_dic = {}\n",
    "   \n",
    "    for block in blocks:\n",
    "        n_trials = TestSocialSampleWindowPerTrial[block].shape[0]\n",
    "        n_units = len(goodspiketimes_copy.keys())\n",
    "\n",
    "        fr_matrix = np.zeros((n_trials, n_units))\n",
    "\n",
    "        i = 0\n",
    "        for unit in units: # list of good cluster_id\n",
    "            \n",
    "            \n",
    "            for event in np.arange(TestSocialSampleWindowPerTrial[block].shape[0]) : #iterate by npoke events\n",
    "\n",
    "                onset = TestSocialSampleWindowPerTrial[block][event,0]\n",
    "                offset = TestSocialSampleWindowPerTrial[block][event,1]\n",
    "                \n",
    "                cond1 = np.where(goodspiketimes_copy[unit].astype(int)>=onset-beforesamples)[0]\n",
    "                cond2 = np.where(goodspiketimes_copy[unit].astype(int)<=offset+aftersamples)[0]\n",
    "                unitspikes = goodspiketimes_copy[unit][np.intersect1d(cond1,cond2)].astype(int)-onset\n",
    "\n",
    "                n = np.histogram(unitspikes, bins=bins)[0][0]\n",
    "                fr = n/0.25\n",
    "                fr_matrix[event, i] = fr\n",
    "            i+=1\n",
    "                \n",
    "        fr_dic[block] = fr_matrix\n",
    "    \n",
    "    return fr_dic\n",
    "        "
   ]
  },
  {
   "cell_type": "markdown",
   "metadata": {},
   "source": [
    "### Firing rates"
   ]
  },
  {
   "cell_type": "markdown",
   "metadata": {},
   "source": [
    "firing rate [Hz] = spike_count/ time_window(sec)\n",
    "\n",
    "* lets find it for each trial for each cell\n",
    "* we will make an array where each row is trial; each column - neuron; we will collect it in dict where keys = blocks"
   ]
  },
  {
   "cell_type": "code",
   "execution_count": 183,
   "metadata": {},
   "outputs": [],
   "source": [
    "## find spikes in interesting behavioral window\n",
    "samplplimg_rate = 20*1000 #20 kHz\n",
    "beforesamples = 0*samplplimg_rate # 1 sec (expressed in samples for a 20khz sampling rate)\n",
    "aftersamples = 0*samplplimg_rate # 1 sec\n",
    "npoke_window = 0.25\n",
    "eventlength = npoke_window*samplplimg_rate # 0.25 s\n",
    "\n",
    "binsize = 0.25*samplplimg_rate \n",
    "bins = np.linspace(-beforesamples,aftersamples+eventlength,int((beforesamples+aftersamples+eventlength)/binsize)+1)"
   ]
  },
  {
   "cell_type": "code",
   "execution_count": 184,
   "metadata": {},
   "outputs": [],
   "source": [
    "# 250 ms during the nosepoke\n",
    "fr_dic = fr_matrix_prep(beforesamples, aftersamples, blocks=active_blocks, bins=bins, del_units=del_units)"
   ]
  },
  {
   "cell_type": "code",
   "execution_count": 185,
   "metadata": {},
   "outputs": [
    {
     "data": {
      "text/plain": [
       "dict_keys([0, 1, 2])"
      ]
     },
     "execution_count": 185,
     "metadata": {},
     "output_type": "execute_result"
    }
   ],
   "source": [
    "fr_dic.keys()"
   ]
  },
  {
   "cell_type": "code",
   "execution_count": 186,
   "metadata": {},
   "outputs": [
    {
     "data": {
      "text/plain": [
       "(30, 18)"
      ]
     },
     "execution_count": 186,
     "metadata": {},
     "output_type": "execute_result"
    }
   ],
   "source": [
    "fr_dic[1].shape"
   ]
  },
  {
   "cell_type": "markdown",
   "metadata": {},
   "source": [
    "## PCA"
   ]
  },
  {
   "cell_type": "code",
   "execution_count": 187,
   "metadata": {},
   "outputs": [],
   "source": [
    "from scipy.stats import multivariate_normal\n",
    "import matplotlib.patches as patches\n",
    "from sklearn.decomposition import PCA\n",
    "from sklearn.mixture import GaussianMixture\n",
    "from matplotlib.patches import Ellipse\n",
    "from sklearn.preprocessing import StandardScaler, MinMaxScaler"
   ]
  },
  {
   "cell_type": "code",
   "execution_count": 188,
   "metadata": {},
   "outputs": [],
   "source": [
    "n_clusters=3\n",
    "firing_rates_concat = np.concatenate((fr_dic[idx1], fr_dic[idx2], fr_dic[idx3]),axis=0)"
   ]
  },
  {
   "cell_type": "code",
   "execution_count": 189,
   "metadata": {},
   "outputs": [],
   "source": [
    "# Standardize the data\n",
    "scaler = StandardScaler() # z-scoring (x-mean)/sd\n",
    "scaled_data = scaler.fit_transform(firing_rates_concat)\n",
    "\n",
    "# Apply PCA\n",
    "pca = PCA(n_components=2)  # Choose number of components based on explained variance\n",
    "principal_components = pca.fit_transform(scaled_data)\n",
    "\n",
    "# Scale each principal component to range from -1 to 1\n",
    "scaler = MinMaxScaler(feature_range=(-1, 1))\n",
    "principal_components = scaler.fit_transform(principal_components)  "
   ]
  },
  {
   "cell_type": "code",
   "execution_count": 190,
   "metadata": {},
   "outputs": [
    {
     "data": {
      "text/plain": [
       "(90, 2)"
      ]
     },
     "execution_count": 190,
     "metadata": {},
     "output_type": "execute_result"
    }
   ],
   "source": [
    "principal_components.shape"
   ]
  },
  {
   "cell_type": "code",
   "execution_count": 191,
   "metadata": {},
   "outputs": [
    {
     "data": {
      "text/plain": [
       "((30, 2), (30, 2), (30, 2), (2,))"
      ]
     },
     "execution_count": 191,
     "metadata": {},
     "output_type": "execute_result"
    }
   ],
   "source": [
    "k = int(principal_components.shape[0]/n_clusters)\n",
    "\n",
    "a_pca = principal_components[:k,:]\n",
    "b_pca = principal_components[k:k+k,:]\n",
    "c_pca = principal_components[k+k:,:]\n",
    "\n",
    "centroidd_a_pca = np.mean(a_pca, axis=0).reshape(1, -1)[0]\n",
    "centroidd_b_pca = np.mean(b_pca, axis=0).reshape(1, -1)[0]\n",
    "centroidd_c_pca = np.mean(c_pca, axis=0).reshape(1, -1)[0]\n",
    "\n",
    "a_pca.shape, b_pca.shape, c_pca.shape, centroidd_a_pca.shape"
   ]
  },
  {
   "cell_type": "code",
   "execution_count": 192,
   "metadata": {},
   "outputs": [],
   "source": [
    "def fit_gaussian(data):\n",
    "    \"\"\"Fit a 2D Gaussian to the data and return the mean and covariance.\"\"\"\n",
    "    mean = np.mean(data, axis=0)\n",
    "    cov = np.cov(data, rowvar=False)\n",
    "    return mean, cov\n",
    "\n",
    "def plot_ellipse(mean, cov, ax, n_std=1.0, color='red', **kwargs):\n",
    "    \"\"\"Plot an ellipse representing the Gaussian mean ± n_std * standard deviations.\"\"\"\n",
    "    # Eigenvalue decomposition to find the axis lengths and rotation angle\n",
    "    vals, vecs = np.linalg.eigh(cov)\n",
    "    order = vals.argsort()[::-1]\n",
    "    vals, vecs = vals[order], vecs[:, order]\n",
    "    \n",
    "    theta = np.degrees(np.arctan2(*vecs[:, 0][::-1]))\n",
    "    \n",
    "    # Width and height are \"full\" lengths, not radius\n",
    "    width, height = 2 * n_std * np.sqrt(vals)\n",
    "    \n",
    "    ell = patches.Ellipse(xy=mean, width=width, height=height, angle=theta, edgecolor=None, facecolor=color, alpha=0.35, **kwargs)\n",
    "    ax.add_patch(ell)"
   ]
  },
  {
   "cell_type": "code",
   "execution_count": 193,
   "metadata": {},
   "outputs": [
    {
     "data": {
      "image/png": "[encoded data removed]",
      "text/plain": [
       "<Figure size 400x400 with 1 Axes>"
      ]
     },
     "metadata": {},
     "output_type": "display_data"
    }
   ],
   "source": [
    "data_pca = [a_pca, b_pca, c_pca]\n",
    "if vis_mice[0]=='alpha1':\n",
    "    colors = ['#133863', '#236AB9', '#609CE1']\n",
    "else:\n",
    "    colors = ['#9D4502', '#FC7307', '#FEAB6D']\n",
    "names = ['alpha', 'beta', 'blank']\n",
    "\n",
    "fig, ax = plt.subplots(figsize=(4, 4))\n",
    "\n",
    "i = 0\n",
    "for data, color in zip(data_pca, colors):\n",
    "    mean, cov = fit_gaussian(data)\n",
    "    plot_ellipse(mean, cov, ax, color=color)\n",
    "    i+=1\n",
    "\n",
    "i = 0\n",
    "for data, color in zip(data_pca, colors):\n",
    "    # Plot data points\n",
    "    ax.scatter(data[:, 0], data[:, 1], s=30, color=color, label=names[i], edgecolor='k',  linewidth=0.5)\n",
    "    i+=1\n",
    "\n",
    "plt.axvline(0,  linestyle = '--', color='#808080', alpha=0.3)\n",
    "plt.axhline(0,  linestyle = '--', color='#808080', alpha=0.3)\n",
    "# plt.grid(True)\n",
    "# plt.axis('equal')\n",
    "plt.xlabel('PC 1')\n",
    "plt.ylabel('PC 2')\n",
    "# plt.ylim(-1,1)\n",
    "# plt.xlim(-1,1)\n",
    "plt.xticks([-1, -0.5, 0, 0.5, 1])\n",
    "plt.yticks([-1, -0.5, 0, 0.5, 1])\n",
    "plt.title('Population responcses in PC space')\n",
    "# plt.legend()\n",
    "plt.tight_layout()\n",
    "plt.savefig(f'C:\\\\Users\\\\ebukina\\\\Desktop\\\\eva\\\\results\\\\aaa_bbb\\\\{mouse}_s{Session}_pca.png', dpi=300, bbox_inches='tight')\n",
    "plt.show() "
   ]
  },
  {
   "cell_type": "code",
   "execution_count": 194,
   "metadata": {},
   "outputs": [
    {
     "data": {
      "image/png": "[encoded data removed]",
      "text/plain": [
       "<Figure size 250x250 with 1 Axes>"
      ]
     },
     "metadata": {},
     "output_type": "display_data"
    }
   ],
   "source": [
    "data_pca = [a_pca, b_pca, c_pca]\n",
    "if vis_mice[0]=='alpha1':\n",
    "    colors = ['#133863', '#236AB9', '#609CE1']\n",
    "else:\n",
    "    colors = ['#9D4502', '#FC7307', '#FEAB6D']\n",
    "names = ['alpha', 'beta', 'blank']\n",
    "\n",
    "fig, ax = plt.subplots(figsize=(2.5,2.5))\n",
    "\n",
    "i = 0\n",
    "for data, color in zip(data_pca, colors):\n",
    "    mean, cov = fit_gaussian(data)\n",
    "    plot_ellipse(mean, cov, ax, color=color)\n",
    "    i+=1\n",
    "\n",
    "i = 0\n",
    "for data, color in zip(data_pca, colors):\n",
    "    # Plot data points\n",
    "    ax.scatter(data[:, 0], data[:, 1], s=10, color=color, label=names[i], edgecolor='k',  linewidth=0.5)\n",
    "    i+=1\n",
    "\n",
    "plt.axvline(0,  linestyle = '--', color='#808080', alpha=0.3)\n",
    "plt.axhline(0,  linestyle = '--', color='#808080', alpha=0.3)\n",
    "# plt.grid(True)\n",
    "# plt.axis('equal')\n",
    "plt.xlabel('PC 1')\n",
    "plt.ylabel('PC 2')\n",
    "# plt.ylim(-1,1)\n",
    "# plt.xlim(-1,1)\n",
    "plt.xticks([-1, 0, 1])\n",
    "plt.yticks([-1, 0, 1])\n",
    "# plt.title('Population responcses in PC space')\n",
    "# plt.legend()\n",
    "plt.tight_layout()\n",
    "plt.savefig(f'C:\\\\Users\\\\ebukina\\\\Desktop\\\\eva\\\\results\\\\aaa_bbb\\\\{mouse}_s{Session}_pca_mini.png', dpi=300, bbox_inches='tight')\n",
    "plt.show() "
   ]
  },
  {
   "cell_type": "code",
   "execution_count": 195,
   "metadata": {},
   "outputs": [],
   "source": [
    "from scipy.spatial.distance import mahalanobis\n",
    "import scipy.stats as stats\n",
    "from scipy.stats import percentileofscore\n",
    "import seaborn as sns\n",
    "import math"
   ]
  },
  {
   "cell_type": "code",
   "execution_count": 196,
   "metadata": {},
   "outputs": [],
   "source": [
    "def calculate_distance(principal_components, n_clusters=3, MD=True):\n",
    "\n",
    "    k = int(principal_components.shape[0]/n_clusters)\n",
    "\n",
    "    a_pca = principal_components[:k,:]\n",
    "    b_pca = principal_components[k:k+k,:]\n",
    "    c_pca = principal_components[k+k:,:]\n",
    "\n",
    "    centroid_a_pca = np.mean(a_pca, axis=0).reshape(1, -1)[0]\n",
    "    centroid_b_pca = np.mean(b_pca, axis=0).reshape(1, -1)[0]\n",
    "    centroid_c_pca = np.mean(c_pca, axis=0).reshape(1, -1)[0]\n",
    "\n",
    "    if MD==True:\n",
    "        covar = np.cov(principal_components.T)\n",
    "        covarinv = np.linalg.inv(covar)\n",
    "\n",
    "        # sparsity\n",
    "        D_a = [mahalanobis(x, centroid_a_pca, covarinv) for x in a_pca]\n",
    "        D_b = [mahalanobis(x, centroid_b_pca, covarinv) for x in b_pca]\n",
    "        D_c = [mahalanobis(x, centroid_c_pca, covarinv) for x in c_pca]\n",
    "\n",
    "        # distance bw centroids\n",
    "        D_ab = mahalanobis(centroid_a_pca, centroid_b_pca, covarinv)\n",
    "        D_ac = mahalanobis(centroid_a_pca, centroid_c_pca, covarinv)\n",
    "        D_bc = mahalanobis(centroid_b_pca, centroid_c_pca, covarinv)\n",
    "\n",
    "    else:\n",
    "        D_a = [euclidean(x, centroid_a_pca) for x in a_pca]\n",
    "        D_b = [euclidean(x, centroid_b_pca) for x in b_pca]\n",
    "        D_c = [euclidean(x, centroid_c_pca) for x in c_pca]\n",
    "\n",
    "\n",
    "        D_ab = euclidean(centroid_a_pca, centroid_b_pca) \n",
    "        D_ac = euclidean(centroid_a_pca, centroid_c_pca) \n",
    "        D_bc = euclidean(centroid_b_pca, centroid_c_pca)\n",
    "\n",
    "    # assemble matrix\n",
    "    D_matrix = np.zeros((3,3))\n",
    "    D_matrix[0,0] = np.mean(np.array(D_a))\n",
    "    D_matrix[0,1] = D_ab\n",
    "    D_matrix[0,2] = D_ac\n",
    "\n",
    "    D_matrix[1,0] = np.nan\n",
    "    D_matrix[1,1] = np.mean(np.array(D_b))\n",
    "    D_matrix[1,2] = D_bc\n",
    "\n",
    "\n",
    "    D_matrix[2,0] = np.nan\n",
    "    D_matrix[2,1] = np.nan\n",
    "    D_matrix[2,2] = np.mean(np.array(D_c))\n",
    "    \n",
    "    \n",
    "    return D_matrix"
   ]
  },
  {
   "cell_type": "code",
   "execution_count": 197,
   "metadata": {},
   "outputs": [],
   "source": [
    "def plot_distance_matrix(D_matrix, D_type = \"MD\", rotate=False):\n",
    "    plt.figure(figsize=(2, 1.5))\n",
    "\n",
    "    labels = ['Alpha', 'Beta', 'Blank']\n",
    "\n",
    "    if D_type=='MD':\n",
    "        cbar_label = 'Mahalanobis distance'\n",
    "    else:\n",
    "        cbar_label = 'Euclidean distance'\n",
    "\n",
    "    if rotate:\n",
    "        # Create the heatmap\n",
    "        heatmap = sns.heatmap(D_matrix, annot=D_matrix, cmap='binary', cbar_kws={'label': cbar_label}, linewidths=1, linecolor='white', square=True, vmin=0, vmax=math.sqrt(8))\n",
    "\n",
    "        # # Customize the heatmap\n",
    "        heatmap.set_xticklabels(labels, rotation=0)\n",
    "        heatmap.set_yticklabels(labels, rotation=90)\n",
    "\n",
    "        cbar = heatmap.collections[0].colorbar\n",
    "        cbar.ax.tick_params(rotation=90)\n",
    "\n",
    "    else:\n",
    "        # Create the heatmap\n",
    "        sns.heatmap(D_matrix, annot=D_matrix, cmap='binary', cbar_kws={'label': cbar_label}, linewidths=1, linecolor='white', square=True, vmin=0, vmax=math.sqrt(8))\n",
    "\n",
    "        # # Customize the heatmap\n",
    "        plt.xticks(ticks=np.arange(len(labels))+0.5, labels=labels, rotation=0)\n",
    "        plt.yticks(ticks=np.arange(len(labels))+0.5, labels=labels, rotation=90)\n",
    "\n",
    "    plt.title('Distance in PC space\\n')\n",
    "    plt.savefig(f'C:\\\\Users\\\\ebukina\\\\Desktop\\\\eva\\\\results\\\\aaa_bbb\\\\{mouse}_S{Session}_{D_type}_matrix.png', dpi=300, bbox_inches='tight')\n",
    "    plt.show()"
   ]
  },
  {
   "cell_type": "code",
   "execution_count": 198,
   "metadata": {},
   "outputs": [],
   "source": [
    "MD_matrix = calculate_distance(principal_components)"
   ]
  },
  {
   "cell_type": "code",
   "execution_count": 199,
   "metadata": {},
   "outputs": [
    {
     "data": {
      "image/png": "[encoded data removed]",
      "text/plain": [
       "<Figure size 200x150 with 2 Axes>"
      ]
     },
     "metadata": {},
     "output_type": "display_data"
    }
   ],
   "source": [
    "plot_distance_matrix(MD_matrix)"
   ]
  },
  {
   "cell_type": "markdown",
   "metadata": {},
   "source": [
    "## Classifiers"
   ]
  },
  {
   "cell_type": "code",
   "execution_count": 148,
   "metadata": {},
   "outputs": [],
   "source": [
    "from sklearn.svm import SVC\n",
    "from sklearn.naive_bayes import GaussianNB\n",
    "from scipy.stats import percentileofscore\n",
    "from sklearn.model_selection import GridSearchCV\n",
    "from sklearn.preprocessing import StandardScaler\n",
    "from sklearn.metrics import classification_report, accuracy_score, confusion_matrix"
   ]
  },
  {
   "cell_type": "code",
   "execution_count": 149,
   "metadata": {},
   "outputs": [
    {
     "data": {
      "text/plain": [
       "((30, 20), (30, 20), (30, 20))"
      ]
     },
     "execution_count": 149,
     "metadata": {},
     "output_type": "execute_result"
    }
   ],
   "source": [
    "# data prep\n",
    "data1 = fr_dic[idx1]\n",
    "data2 = fr_dic[idx2]\n",
    "data3 = fr_dic[idx3]\n",
    "\n",
    "# random.seed(666)\n",
    "\n",
    "num_rows = data1.shape[0]\n",
    "shuffled_indices = list(range(num_rows))\n",
    "\n",
    "random.shuffle(shuffled_indices)\n",
    "data1 = data1[shuffled_indices]\n",
    "\n",
    "random.shuffle(shuffled_indices)\n",
    "data2 = data2[shuffled_indices]\n",
    "\n",
    "random.shuffle(shuffled_indices)\n",
    "data3 = data3[shuffled_indices]\n",
    "\n",
    "\n",
    "data1.shape, data2.shape, data3.shape"
   ]
  },
  {
   "cell_type": "markdown",
   "metadata": {},
   "source": [
    "### SVC"
   ]
  },
  {
   "cell_type": "code",
   "execution_count": 150,
   "metadata": {},
   "outputs": [],
   "source": [
    "def SVM(alpha_data, beta_data, kernel = 'linear', cv=5):\n",
    "\n",
    "    # random.seed(666)\n",
    "    # params\n",
    "    num_rows = alpha_data.shape[0]\n",
    "    indices = list(range(num_rows))\n",
    "    train_proportion = 6 # out of 30 trials\n",
    "\n",
    "    # collect outcomes\n",
    "    accuracy_cv5 = []\n",
    "\n",
    "    for n in range(cv):\n",
    "        test_alpha_idx = random.sample(indices, train_proportion)\n",
    "        train_alpha_idx = [number for number in indices if number not in test_alpha_idx]\n",
    "        test_alpha = alpha_data[test_alpha_idx]\n",
    "        train_alpha = alpha_data[train_alpha_idx]\n",
    "\n",
    "        test_beta_idx = random.sample(indices, train_proportion)\n",
    "        train_beta_idx = [number for number in indices if number not in test_beta_idx]\n",
    "        test_beta = beta_data[test_beta_idx]\n",
    "        train_beta = beta_data[train_beta_idx]\n",
    "\n",
    "        test_ab = np.concatenate((test_alpha,test_beta), axis=0)\n",
    "        train_ab = np.concatenate((train_alpha,train_beta), axis=0)\n",
    "\n",
    "        # Standardize the data\n",
    "        scaler = StandardScaler()\n",
    "        test_ab = scaler.fit_transform(test_ab)\n",
    "        train_ab = scaler.fit_transform(train_ab)\n",
    "\n",
    "        y_test = np.concatenate((np.ones(test_alpha.shape[0]),np.zeros(test_beta.shape[0])))\n",
    "        y_train = np.concatenate((np.ones(train_alpha.shape[0]),np.zeros(train_beta.shape[0])))\n",
    "\n",
    "        # randomize train\n",
    "        num_rows = train_ab.shape[0]\n",
    "        shuffled_indices = list(range(num_rows))\n",
    "        random.shuffle(shuffled_indices)\n",
    "        train_ab = train_ab[shuffled_indices]\n",
    "        y_train = y_train[shuffled_indices]\n",
    "\n",
    "        svm_classifier_cv = SVC(kernel=kernel, random_state=666)\n",
    "        svm_classifier_cv.fit(train_ab, y_train)\n",
    "        y_pred = svm_classifier_cv.predict(test_ab)\n",
    "        accuracy_cv5.append(accuracy_score(y_test, y_pred)) \n",
    "\n",
    "    return np.mean(np.array(accuracy_cv5)) "
   ]
  },
  {
   "cell_type": "code",
   "execution_count": 151,
   "metadata": {},
   "outputs": [
    {
     "data": {
      "text/plain": [
       "(0.5333333333333333, 0.55, 0.4833333333333334)"
      ]
     },
     "execution_count": 151,
     "metadata": {},
     "output_type": "execute_result"
    }
   ],
   "source": [
    "acc_svm_12 = SVM(data1, data2)\n",
    "acc_svm_13 = SVM(data1, data3)\n",
    "acc_svm_23 = SVM(data2, data3)\n",
    "\n",
    "acc_svm_12, acc_svm_13, acc_svm_23"
   ]
  },
  {
   "cell_type": "code",
   "execution_count": 152,
   "metadata": {},
   "outputs": [],
   "source": [
    "acc_svm = [acc_svm_12,acc_svm_23,acc_svm_13]"
   ]
  },
  {
   "cell_type": "code",
   "execution_count": 153,
   "metadata": {},
   "outputs": [],
   "source": [
    "# shuffle\n",
    "acc_sh12 = []\n",
    "acc_sh23 = []\n",
    "acc_sh13 = []\n",
    "\n",
    "\n",
    "shuffled_indices = list(range(len(data1)*3))\n",
    "for sh in range(1000):\n",
    "    # data prep\n",
    "    data_123 = np.concatenate((data1,data2,data3), axis=0)\n",
    "    random.shuffle(shuffled_indices)\n",
    "    data_123 = data_123[shuffled_indices]\n",
    "    k = data1.shape[0]\n",
    "    sh1 = data_123[:k]\n",
    "    sh2 = data_123[k:k*2]\n",
    "    sh3 = data_123[k*2:]\n",
    "    \n",
    "    acc_sh12.append(SVM(sh1, sh2))\n",
    "    acc_sh13.append(SVM(sh1, sh3))\n",
    "    acc_sh23.append(SVM(sh2, sh3))\n",
    "    "
   ]
  },
  {
   "cell_type": "code",
   "execution_count": 154,
   "metadata": {},
   "outputs": [],
   "source": [
    "acc_sh = [acc_sh12,acc_sh23,acc_sh13]"
   ]
  },
  {
   "cell_type": "code",
   "execution_count": 155,
   "metadata": {},
   "outputs": [],
   "source": [
    "pvals = []\n",
    "for i in range(3):\n",
    "    acc_sh_sorted = np.sort(np.array(acc_sh[i]))\n",
    "    percentile_rank = percentileofscore(acc_sh_sorted, acc_svm[i])\n",
    "    # one-tailored\n",
    "    p_value = 1-(percentile_rank/100)\n",
    "    pvals.append(p_value)\n"
   ]
  },
  {
   "cell_type": "code",
   "execution_count": 156,
   "metadata": {},
   "outputs": [],
   "source": [
    "colors = ['#588c7e', '#d96459', '#ffcc5c'] #12 23 13 \n",
    "compared = [12, 23, 13]"
   ]
  },
  {
   "cell_type": "code",
   "execution_count": 157,
   "metadata": {},
   "outputs": [
    {
     "data": {
      "image/png": "[encoded data removed]",
      "text/plain": [
       "<Figure size 300x300 with 1 Axes>"
      ]
     },
     "metadata": {},
     "output_type": "display_data"
    },
    {
     "data": {
      "image/png": "[encoded data removed]",
      "text/plain": [
       "<Figure size 300x300 with 1 Axes>"
      ]
     },
     "metadata": {},
     "output_type": "display_data"
    },
    {
     "data": {
      "image/png": "[encoded data removed]",
      "text/plain": [
       "<Figure size 300x300 with 1 Axes>"
      ]
     },
     "metadata": {},
     "output_type": "display_data"
    }
   ],
   "source": [
    "for i in range(3):\n",
    "    plt.figure(figsize=(3,3)) \n",
    "    bin_edges = np.arange(0, 1+0.04, 0.04)\n",
    "    plt.hist(acc_sh[i], bins=bin_edges, alpha=0.5, color=colors[i])\n",
    "    plt.axvline(acc_svm[i],color='red', alpha=0.7)\n",
    "    plt.xlabel('Accuracy', fontsize=12)\n",
    "    plt.ylabel('Count', fontsize=12)\n",
    "    plt.xticks(rotation=45)\n",
    "    plt.xticks(np.arange(0, 1.1, 0.1)) \n",
    "    plt.ylim(0,500)\n",
    "    plt.title(f'{compared[i]}, S{Session},\\nSVM (linear kernel),\\nmorning cv,\\ntrai&test_shuffle,\\nacc={acc_svm[i]:.2f}, pval={pvals[i]:.3f}')\n",
    "    plt.tight_layout()\n",
    "    plt.savefig(f'C:\\\\Users\\\\ebukina\\\\Desktop\\\\eva\\\\results\\\\aaa_bbb\\\\{compared[i]}_S{Session}_SVM.png', dpi=300, bbox_inches='tight')\n",
    "    plt.show()"
   ]
  },
  {
   "cell_type": "code",
   "execution_count": 158,
   "metadata": {},
   "outputs": [],
   "source": [
    "classifiers_results = {}\n",
    "classifiers_results['svm'] = {'acc12':acc_svm_12, 'acc_sh12':acc_sh12, 'pval12':pvals[0], \n",
    "                              'acc23':acc_svm_23, 'acc_sh23':acc_sh23, 'pval23':pvals[1],\n",
    "                              'acc13':acc_svm_13, 'acc_sh13':acc_sh13, 'pval13':pvals[2]}"
   ]
  },
  {
   "cell_type": "code",
   "execution_count": null,
   "metadata": {},
   "outputs": [],
   "source": []
  },
  {
   "cell_type": "code",
   "execution_count": 159,
   "metadata": {},
   "outputs": [],
   "source": [
    "save_path = f'C:\\\\Users\\\\ebukina\\\\Desktop\\\\eva\\\\results\\\\aaa_bbb\\\\{mouse}_S{Session}_classifiers_results.pkl'\n",
    "with open(save_path, 'wb') as f:\n",
    "    pickle.dump(classifiers_results, f)"
   ]
  },
  {
   "cell_type": "code",
   "execution_count": 160,
   "metadata": {},
   "outputs": [],
   "source": [
    "# # load\n",
    "# with open(save_path, 'rb') as f:\n",
    "#     classifiers_results = pickle.load(f)\n",
    "# classifiers_results"
   ]
  },
  {
   "cell_type": "code",
   "execution_count": null,
   "metadata": {},
   "outputs": [],
   "source": []
  }
 ],
 "metadata": {
  "kernelspec": {
   "display_name": "Python 3 (ipykernel)",
   "language": "python",
   "name": "python3"
  },
  "language_info": {
   "codemirror_mode": {
    "name": "ipython",
    "version": 3
   },
   "file_extension": ".py",
   "mimetype": "text/x-python",
   "name": "python",
   "nbconvert_exporter": "python",
   "pygments_lexer": "ipython3",
   "version": "3.11.5"
  }
 },
 "nbformat": 4,
 "nbformat_minor": 1
}
