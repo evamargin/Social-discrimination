{
 "cells": [
  {
   "cell_type": "markdown",
   "metadata": {},
   "source": [
    "# Models to check block sequence effect!! \n",
    "\n",
    "- only a|b|bl\n",
    "- only morning\n",
    "- only SVM linear"
   ]
  },
  {
   "cell_type": "code",
   "execution_count": 212,
   "metadata": {},
   "outputs": [],
   "source": [
    "import sys\n",
    "import os as os\n",
    "import numpy as np\n",
    "try:\n",
    "    import cPickle as pickle\n",
    "except:\n",
    "    import pickle as pkl\n",
    "\n",
    "import scipy as scipy\n",
    "import scipy.io as spio\n",
    "import pandas as pd\n",
    "import matplotlib.pyplot as plt\n",
    "import matplotlib as mpl\n",
    "from scipy import signal\n",
    "from scipy.signal import find_peaks\n",
    "from scipy.ndimage import gaussian_filter1d\n",
    "from scipy.io.matlab import mat_struct\n",
    "import pickle\n",
    "import random\n",
    "random.seed(666)\n",
    "\n",
    "def loadmat(filename):\n",
    "    '''\n",
    "    this function should be called instead of direct spio.loadmat\n",
    "    as it cures the problem of not properly recovering python dictionaries\n",
    "    from mat files. It calls the function check keys to cure all entries\n",
    "    which are still mat-objects\n",
    "    '''\n",
    "    data = spio.loadmat(filename, struct_as_record=True, squeeze_me=True)\n",
    "    return _check_keys(data)\n",
    "\n",
    "def _check_keys(dict):\n",
    "    '''\n",
    "    checks if entries in dictionary are mat-objects. If yes\n",
    "    todict is called to change them to nested dictionaries\n",
    "    '''\n",
    "    for key in dict:\n",
    "        if isinstance(dict[key], scipy.io.matlab.mat_struct):\n",
    "            dict[key] = _todict(dict[key])\n",
    "    return dict        \n",
    "\n",
    "def _todict(matobj):\n",
    "    '''\n",
    "    A recursive function which constructs from matobjects nested dictionaries\n",
    "    '''\n",
    "    dict = {}\n",
    "    for strg in matobj._fieldnames:\n",
    "        elem = matobj.__dict__[strg]\n",
    "        if isinstance(elem, scipy.io.matlab.mat_struct):\n",
    "            dict[strg] = _todict(elem)\n",
    "        else:\n",
    "            dict[strg] = elem\n",
    "    return dict"
   ]
  },
  {
   "cell_type": "markdown",
   "metadata": {},
   "source": [
    "## Load session data"
   ]
  },
  {
   "cell_type": "code",
   "execution_count": 213,
   "metadata": {},
   "outputs": [],
   "source": [
    "meta = {}\n",
    "meta[45] = {'mouse':'3C280', 'ks':'Kilosort_2024-04-12_162032', 'del_units':[594], 'vis_mice':np.array(['nan', 'beta', 'alpha'])}\n",
    "meta[46] = {'mouse':'3C280', 'ks':'Kilosort_2024-04-12_180855', 'del_units':None, 'vis_mice':np.array(['nan', 'alpha', 'beta'])}\n",
    "meta[11] = {'mouse':'3C290', 'ks':'Kilosort_2024-05-06_154258', 'del_units':[847, 835], 'vis_mice':np.array(['nan', 'beta', 'alpha'])}\n",
    "meta[13] = {'mouse':'3C290', 'ks':'Kilosort_2024-05-14_120055', 'del_units':None, 'vis_mice':np.array(['nan', 'beta', 'alpha'])}\n",
    "meta[14] = {'mouse':'3C290', 'ks':'Kilosort_2024-05-14_122629', 'del_units':None, 'vis_mice':np.array(['nan', 'beta', 'alpha'])}\n",
    "meta[19] = {'mouse':'3C290', 'ks':'Kilosort_2024-05-14_140410', 'del_units':None, 'vis_mice':np.array(['nan', 'beta', 'alpha'])}\n",
    "meta[20] = {'mouse':'3C290', 'ks':'Kilosort_2024-05-15_110539', 'del_units':[33], 'vis_mice':np.array(['nan', 'beta', 'alpha'])}\n"
   ]
  },
  {
   "cell_type": "code",
   "execution_count": 214,
   "metadata": {},
   "outputs": [],
   "source": [
    "Session = 20"
   ]
  },
  {
   "cell_type": "code",
   "execution_count": 215,
   "metadata": {},
   "outputs": [],
   "source": [
    "mouse = meta[Session]['mouse']\n",
    "ks = meta[Session]['ks']\n",
    "del_units=meta[Session]['del_units']\n",
    "vis_mice = meta[Session]['vis_mice']\n",
    "active_blocks = [1,2,3]"
   ]
  },
  {
   "cell_type": "code",
   "execution_count": 216,
   "metadata": {},
   "outputs": [],
   "source": [
    "a_idx = np.where(vis_mice=='alpha')[0][0]\n",
    "b_idx = np.where(vis_mice=='beta')[0][0]\n",
    "c_idx = 3 "
   ]
  },
  {
   "cell_type": "code",
   "execution_count": 217,
   "metadata": {},
   "outputs": [],
   "source": [
    "# create folder to save results\n",
    "try:\n",
    "    os.makedirs(f'C:\\\\Users\\\\ebukina\\\\Desktop\\\\eva\\\\results\\\\aaa_bbb')\n",
    "except:\n",
    "    pass"
   ]
  },
  {
   "cell_type": "code",
   "execution_count": 218,
   "metadata": {},
   "outputs": [],
   "source": [
    "# create folder to save results\n",
    "try:\n",
    "    os.makedirs(f'C:\\\\Users\\\\ebukina\\\\Desktop\\\\eva\\\\results\\\\aaa_bbb\\\\S{Session}')\n",
    "except:\n",
    "    pass"
   ]
  },
  {
   "cell_type": "markdown",
   "metadata": {},
   "source": [
    "### Ephys data"
   ]
  },
  {
   "cell_type": "code",
   "execution_count": 219,
   "metadata": {},
   "outputs": [],
   "source": [
    "KSdir = f'L:\\\\everyone\\\\sharedDATA\\\\ProcessedDATA\\\\{mouse}\\\\{mouse}_S{Session}\\\\{ks}\\\\'\n",
    "\n",
    "spiketimesfile = KSdir+\"spike_times.npy\"  \n",
    "spiketimes = np.load(spiketimesfile)  #### all spiketimes as indexes regardless of cluster\n",
    "\n",
    "clusterfile = KSdir+\"spike_clusters.npy\"\n",
    "spikeclusters = np.load(clusterfile) #### cluster id for each detected spike\n",
    "\n",
    "Clusterinfofile = KSdir+\"cluster_info.tsv\"\n",
    "Clusterinfo = pd.read_csv(Clusterinfofile,sep='\\t') #### cluster meta-data matrix"
   ]
  },
  {
   "cell_type": "code",
   "execution_count": 220,
   "metadata": {},
   "outputs": [
    {
     "name": "stdout",
     "output_type": "stream",
     "text": [
      "Session 20: 17 good clusters\n"
     ]
    }
   ],
   "source": [
    "goodclusts = Clusterinfo['cluster_id'][np.where(Clusterinfo['group']=='good')[0]]\n",
    "goods = []\n",
    "for clust in goodclusts :\n",
    "    goods.append(clust)\n",
    "print(f'Session {Session}: {len(goods)} good clusters')"
   ]
  },
  {
   "cell_type": "code",
   "execution_count": 221,
   "metadata": {},
   "outputs": [],
   "source": [
    "goodspiketimes = {}\n",
    "\n",
    "spikethresh = 1000 # min nb of spikes\n",
    "for goodunit in goods :\n",
    "    goodinds = np.where(spikeclusters==goodunit)[0]\n",
    "    if goodinds.shape[0] > spikethresh : \n",
    "        goodspiketimes[goodunit] = spiketimes[goodinds]"
   ]
  },
  {
   "cell_type": "code",
   "execution_count": 222,
   "metadata": {},
   "outputs": [
    {
     "data": {
      "text/plain": [
       "17"
      ]
     },
     "execution_count": 222,
     "metadata": {},
     "output_type": "execute_result"
    }
   ],
   "source": [
    "len(goodspiketimes.keys())"
   ]
  },
  {
   "cell_type": "markdown",
   "metadata": {},
   "source": [
    "### Behavior data"
   ]
  },
  {
   "cell_type": "code",
   "execution_count": 223,
   "metadata": {},
   "outputs": [],
   "source": [
    "matfile =  f'L:\\\\everyone\\\\sharedDATA\\\\ProcessedDATA\\\\{mouse}\\\\{mouse}_S{Session}\\\\Behaviour.mat'\n",
    "EvaBehavior = loadmat(matfile)"
   ]
  },
  {
   "cell_type": "code",
   "execution_count": 224,
   "metadata": {},
   "outputs": [],
   "source": [
    "def load_behavioral_event(event_idx, time_to_idx = True):\n",
    "    '''\n",
    "    returns dictionary; keys - blocks; inside - array with event :\n",
    "    time stamps in [sec] if time_to_idx = False\n",
    "    indexes if time_to_idx = True\n",
    "    '''\n",
    "    event_dic = {}\n",
    "\n",
    "    for block in np.arange(EvaBehavior['Behaviour'].shape[0]) :\n",
    "        if time_to_idx:\n",
    "            event_dic[block] = EvaBehavior['Behaviour'][block][event_idx]*20000\n",
    "        else:\n",
    "            event_dic[block] = EvaBehavior['Behaviour'][block][event_idx]\n",
    "        event_dic[block] = event_dic[block].astype(int)\n",
    "    \n",
    "    return event_dic"
   ]
  },
  {
   "cell_type": "code",
   "execution_count": 225,
   "metadata": {},
   "outputs": [],
   "source": [
    "TestSocialSampleWindowPerTrial = load_behavioral_event(12)"
   ]
  },
  {
   "cell_type": "markdown",
   "metadata": {},
   "source": [
    "## Data prep: firing rate array"
   ]
  },
  {
   "cell_type": "code",
   "execution_count": 226,
   "metadata": {},
   "outputs": [],
   "source": [
    "import copy"
   ]
  },
  {
   "cell_type": "code",
   "execution_count": 227,
   "metadata": {},
   "outputs": [],
   "source": [
    "def fr_matrix_prep(beforesamples, aftersamples, blocks, bins, del_units=None):\n",
    "    # discard wierd cells based on rasters\n",
    "    goodspiketimes_copy = copy.deepcopy(goodspiketimes)\n",
    "\n",
    "    try:\n",
    "        for unit in del_units:\n",
    "            del goodspiketimes_copy[unit]\n",
    "    except:\n",
    "        pass\n",
    "\n",
    "    units = goodspiketimes_copy.keys()\n",
    "    fr_dic = {}\n",
    "   \n",
    "    for block in blocks:\n",
    "        n_trials = TestSocialSampleWindowPerTrial[block].shape[0]\n",
    "        n_units = len(goodspiketimes_copy.keys())\n",
    "\n",
    "        fr_matrix = np.zeros((n_trials, n_units))\n",
    "\n",
    "        i = 0\n",
    "        for unit in units: # list of good cluster_id\n",
    "            \n",
    "            \n",
    "            for event in np.arange(TestSocialSampleWindowPerTrial[block].shape[0]) : #iterate by npoke events\n",
    "\n",
    "                onset = TestSocialSampleWindowPerTrial[block][event,0]\n",
    "                offset = TestSocialSampleWindowPerTrial[block][event,1]\n",
    "                \n",
    "                cond1 = np.where(goodspiketimes_copy[unit].astype(int)>=onset-beforesamples)[0]\n",
    "                cond2 = np.where(goodspiketimes_copy[unit].astype(int)<=offset+aftersamples)[0]\n",
    "                unitspikes = goodspiketimes_copy[unit][np.intersect1d(cond1,cond2)].astype(int)-onset\n",
    "\n",
    "                n = np.histogram(unitspikes, bins=bins)[0][0]\n",
    "                fr = n/0.25\n",
    "                fr_matrix[event, i] = fr\n",
    "            i+=1\n",
    "                \n",
    "        fr_dic[block] = fr_matrix\n",
    "    \n",
    "    return fr_dic\n",
    "        "
   ]
  },
  {
   "cell_type": "markdown",
   "metadata": {},
   "source": [
    "### Firing rates"
   ]
  },
  {
   "cell_type": "markdown",
   "metadata": {},
   "source": [
    "firing rate [Hz] = spike_count/ time_window(sec)\n",
    "\n",
    "* lets find it for each trial for each cell\n",
    "* we will make an array where each row is trial; each column - neuron; we will collect it in dict where keys = blocks"
   ]
  },
  {
   "cell_type": "code",
   "execution_count": 228,
   "metadata": {},
   "outputs": [],
   "source": [
    "## find spikes in interesting behavioral window\n",
    "samplplimg_rate = 20*1000 #20 kHz\n",
    "beforesamples = 0*samplplimg_rate # 1 sec (expressed in samples for a 20khz sampling rate)\n",
    "aftersamples = 0*samplplimg_rate # 1 sec\n",
    "npoke_window = 0.25\n",
    "eventlength = npoke_window*samplplimg_rate # 0.25 s\n",
    "\n",
    "binsize = 0.25*samplplimg_rate \n",
    "bins = np.linspace(-beforesamples,aftersamples+eventlength,int((beforesamples+aftersamples+eventlength)/binsize)+1)"
   ]
  },
  {
   "cell_type": "code",
   "execution_count": 229,
   "metadata": {},
   "outputs": [],
   "source": [
    "# 250 ms during the nosepoke\n",
    "fr_dic = fr_matrix_prep(beforesamples, aftersamples, blocks=active_blocks, bins=bins, del_units=del_units)"
   ]
  },
  {
   "cell_type": "code",
   "execution_count": 230,
   "metadata": {},
   "outputs": [
    {
     "data": {
      "text/plain": [
       "dict_keys([1, 2, 3])"
      ]
     },
     "execution_count": 230,
     "metadata": {},
     "output_type": "execute_result"
    }
   ],
   "source": [
    "fr_dic.keys()"
   ]
  },
  {
   "cell_type": "code",
   "execution_count": 231,
   "metadata": {},
   "outputs": [
    {
     "data": {
      "text/plain": [
       "(30, 16)"
      ]
     },
     "execution_count": 231,
     "metadata": {},
     "output_type": "execute_result"
    }
   ],
   "source": [
    "fr_dic[1].shape"
   ]
  },
  {
   "cell_type": "markdown",
   "metadata": {},
   "source": [
    "## Classifiers"
   ]
  },
  {
   "cell_type": "code",
   "execution_count": 232,
   "metadata": {},
   "outputs": [],
   "source": [
    "from sklearn.svm import SVC\n",
    "from sklearn.naive_bayes import GaussianNB\n",
    "from scipy.stats import percentileofscore\n",
    "from sklearn.model_selection import GridSearchCV\n",
    "from sklearn.preprocessing import StandardScaler\n",
    "from sklearn.metrics import classification_report, accuracy_score, confusion_matrix"
   ]
  },
  {
   "cell_type": "code",
   "execution_count": 233,
   "metadata": {},
   "outputs": [
    {
     "data": {
      "text/plain": [
       "((30, 16), (30, 16), (30, 16))"
      ]
     },
     "execution_count": 233,
     "metadata": {},
     "output_type": "execute_result"
    }
   ],
   "source": [
    "# data prep\n",
    "data1 = fr_dic[a_idx]\n",
    "data2 = fr_dic[b_idx]\n",
    "data3 = fr_dic[c_idx]\n",
    "\n",
    "# random.seed(666)\n",
    "\n",
    "num_rows = data1.shape[0]\n",
    "shuffled_indices = list(range(num_rows))\n",
    "\n",
    "random.shuffle(shuffled_indices)\n",
    "alpha_data = data1[shuffled_indices]\n",
    "\n",
    "random.shuffle(shuffled_indices)\n",
    "beta_data = data2[shuffled_indices]\n",
    "\n",
    "random.shuffle(shuffled_indices)\n",
    "blank_data = data3[shuffled_indices]\n",
    "\n",
    "data1.shape, data2.shape, data3.shape"
   ]
  },
  {
   "cell_type": "markdown",
   "metadata": {},
   "source": [
    "### SVC"
   ]
  },
  {
   "cell_type": "code",
   "execution_count": 234,
   "metadata": {},
   "outputs": [],
   "source": [
    "def SVM(alpha_data, beta_data, kernel = 'linear', cv=5):\n",
    "\n",
    "    # random.seed(666)\n",
    "    # params\n",
    "    num_rows = alpha_data.shape[0]\n",
    "    indices = list(range(num_rows))\n",
    "    train_proportion = 6 # out of 30 trials\n",
    "\n",
    "    # collect outcomes\n",
    "    accuracy_cv5 = []\n",
    "\n",
    "    for n in range(cv):\n",
    "        test_alpha_idx = random.sample(indices, train_proportion)\n",
    "        train_alpha_idx = [number for number in indices if number not in test_alpha_idx]\n",
    "        test_alpha = alpha_data[test_alpha_idx]\n",
    "        train_alpha = alpha_data[train_alpha_idx]\n",
    "\n",
    "        test_beta_idx = random.sample(indices, train_proportion)\n",
    "        train_beta_idx = [number for number in indices if number not in test_beta_idx]\n",
    "        test_beta = beta_data[test_beta_idx]\n",
    "        train_beta = beta_data[train_beta_idx]\n",
    "\n",
    "        test_ab = np.concatenate((test_alpha,test_beta), axis=0)\n",
    "        train_ab = np.concatenate((train_alpha,train_beta), axis=0)\n",
    "\n",
    "        # Standardize the data\n",
    "        scaler = StandardScaler()\n",
    "        test_ab = scaler.fit_transform(test_ab)\n",
    "        train_ab = scaler.fit_transform(train_ab)\n",
    "\n",
    "        y_test = np.concatenate((np.ones(test_alpha.shape[0]),np.zeros(test_beta.shape[0])))\n",
    "        y_train = np.concatenate((np.ones(train_alpha.shape[0]),np.zeros(train_beta.shape[0])))\n",
    "\n",
    "        # randomize train\n",
    "        num_rows = train_ab.shape[0]\n",
    "        shuffled_indices = list(range(num_rows))\n",
    "        random.shuffle(shuffled_indices)\n",
    "        train_ab = train_ab[shuffled_indices]\n",
    "        y_train = y_train[shuffled_indices]\n",
    "\n",
    "        svm_classifier_cv = SVC(kernel=kernel, random_state=666)\n",
    "        svm_classifier_cv.fit(train_ab, y_train)\n",
    "        y_pred = svm_classifier_cv.predict(test_ab)\n",
    "        accuracy_cv5.append(accuracy_score(y_test, y_pred)) \n",
    "\n",
    "    return np.mean(np.array(accuracy_cv5)) "
   ]
  },
  {
   "cell_type": "code",
   "execution_count": 235,
   "metadata": {},
   "outputs": [
    {
     "data": {
      "text/plain": [
       "(0.7333333333333333, 0.6, 0.8833333333333332)"
      ]
     },
     "execution_count": 235,
     "metadata": {},
     "output_type": "execute_result"
    }
   ],
   "source": [
    "acc_svm_12 = SVM(data1, data2)\n",
    "acc_svm_13 = SVM(data1, data3)\n",
    "acc_svm_23 = SVM(data2, data3)\n",
    "\n",
    "acc_svm_12, acc_svm_13, acc_svm_23"
   ]
  },
  {
   "cell_type": "code",
   "execution_count": 236,
   "metadata": {},
   "outputs": [],
   "source": [
    "acc_svm = [acc_svm_12,acc_svm_13,acc_svm_23]"
   ]
  },
  {
   "cell_type": "code",
   "execution_count": 237,
   "metadata": {},
   "outputs": [],
   "source": [
    "# shuffle\n",
    "acc_sh12 = []\n",
    "acc_sh13 = []\n",
    "acc_sh23 = []\n",
    "\n",
    "shuffled_indices = list(range(len(data1)*3))\n",
    "for sh in range(1000):\n",
    "    # data prep\n",
    "    data_123 = np.concatenate((data1,data2,data3), axis=0)\n",
    "    random.shuffle(shuffled_indices)\n",
    "    data_123 = data_123[shuffled_indices]\n",
    "    k = data1.shape[0]\n",
    "    sh1 = data_123[:k]\n",
    "    sh2 = data_123[k:k*2]\n",
    "    sh3 = data_123[k*2:]\n",
    "    \n",
    "    acc_sh12.append(SVM(sh1, sh2))\n",
    "    acc_sh13.append(SVM(sh1, sh3))\n",
    "    acc_sh23.append(SVM(sh2, sh3))\n",
    "    "
   ]
  },
  {
   "cell_type": "code",
   "execution_count": 238,
   "metadata": {},
   "outputs": [],
   "source": [
    "acc_sh = [acc_sh12,acc_sh13,acc_sh23]"
   ]
  },
  {
   "cell_type": "code",
   "execution_count": 239,
   "metadata": {},
   "outputs": [],
   "source": [
    "pvals = []\n",
    "for i in range(3):\n",
    "    acc_sh_sorted = np.sort(np.array(acc_sh[i]))\n",
    "    percentile_rank = percentileofscore(acc_sh_sorted, acc_svm[i])\n",
    "    # one-tailored\n",
    "    p_value = 1-(percentile_rank/100)\n",
    "    pvals.append(p_value)"
   ]
  },
  {
   "cell_type": "code",
   "execution_count": 240,
   "metadata": {},
   "outputs": [],
   "source": [
    "colors = ['#588c7e', '#ffcc5c', '#d96459'] #ab ac bc"
   ]
  },
  {
   "cell_type": "code",
   "execution_count": 241,
   "metadata": {},
   "outputs": [],
   "source": [
    "names = ['ab', 'ac','bc']"
   ]
  },
  {
   "cell_type": "code",
   "execution_count": 242,
   "metadata": {},
   "outputs": [
    {
     "data": {
      "image/png": "[encoded data removed]",
      "text/plain": [
       "<Figure size 300x300 with 1 Axes>"
      ]
     },
     "metadata": {},
     "output_type": "display_data"
    },
    {
     "data": {
      "image/png": "[encoded data removed]",
      "text/plain": [
       "<Figure size 300x300 with 1 Axes>"
      ]
     },
     "metadata": {},
     "output_type": "display_data"
    },
    {
     "data": {
      "image/png": "[encoded data removed]",
      "text/plain": [
       "<Figure size 300x300 with 1 Axes>"
      ]
     },
     "metadata": {},
     "output_type": "display_data"
    }
   ],
   "source": [
    "for i in range(3):\n",
    "    plt.figure(figsize=(3,3)) \n",
    "    bin_edges = np.arange(0, 1+0.04, 0.04)\n",
    "    plt.hist(acc_sh[i], bins=bin_edges, alpha=0.5, color=colors[i])\n",
    "    plt.axvline(acc_svm[i],color='red', alpha=0.7)\n",
    "    plt.xlabel('Accuracy', fontsize=12)\n",
    "    plt.ylabel('Count', fontsize=12)\n",
    "    plt.xticks(rotation=45)\n",
    "    plt.xticks(np.arange(0, 1.1, 0.1)) \n",
    "    plt.ylim(0,500)\n",
    "    plt.title(f'{names[i]}, S{Session},\\nSVM,\\nmorning cv,\\ntrai&test_shuffle,\\nacc={acc_svm[i]:.2f}, pval={pvals[i]:.3f}')\n",
    "    plt.tight_layout()\n",
    "    plt.savefig(f'C:\\\\Users\\\\ebukina\\\\Desktop\\\\eva\\\\results\\\\aaa_bbb\\\\{names[i]}_S{Session}_SVM_control.png', dpi=300, bbox_inches='tight')\n",
    "    plt.show()"
   ]
  },
  {
   "cell_type": "code",
   "execution_count": 243,
   "metadata": {},
   "outputs": [],
   "source": [
    "classifiers_results = {}\n",
    "classifiers_results['svm'] = {'accab':acc_svm_12, 'acc_shab':acc_sh12, 'pvalab':pvals[0], \n",
    "                              'accac':acc_svm_13, 'acc_shac':acc_sh13, 'pvalac':pvals[1],\n",
    "                              'accbc':acc_svm_23, 'acc_shbc':acc_sh23, 'pvalbc':pvals[2]}"
   ]
  },
  {
   "cell_type": "code",
   "execution_count": 244,
   "metadata": {},
   "outputs": [],
   "source": [
    "save_path = f'C:\\\\Users\\\\ebukina\\\\Desktop\\\\eva\\\\results\\\\aaa_bbb\\\\{mouse}_S{Session}_classifiers_results.pkl'\n",
    "with open(save_path, 'wb') as f:\n",
    "    pickle.dump(classifiers_results, f)"
   ]
  },
  {
   "cell_type": "code",
   "execution_count": null,
   "metadata": {},
   "outputs": [],
   "source": []
  },
  {
   "cell_type": "code",
   "execution_count": 245,
   "metadata": {},
   "outputs": [],
   "source": [
    "# # load\n",
    "# with open(save_path, 'rb') as f:\n",
    "#     classifiers_results = pickle.load(f)\n",
    "# classifiers_results"
   ]
  },
  {
   "cell_type": "code",
   "execution_count": null,
   "metadata": {},
   "outputs": [],
   "source": []
  }
 ],
 "metadata": {
  "kernelspec": {
   "display_name": "Python 3 (ipykernel)",
   "language": "python",
   "name": "python3"
  },
  "language_info": {
   "codemirror_mode": {
    "name": "ipython",
    "version": 3
   },
   "file_extension": ".py",
   "mimetype": "text/x-python",
   "name": "python",
   "nbconvert_exporter": "python",
   "pygments_lexer": "ipython3",
   "version": "3.11.5"
  }
 },
 "nbformat": 4,
 "nbformat_minor": 1
}
